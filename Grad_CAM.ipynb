{
  "nbformat": 4,
  "nbformat_minor": 0,
  "metadata": {
    "colab": {
      "name": "Grad-CAM.ipynb",
      "provenance": [],
      "collapsed_sections": [],
      "authorship_tag": "ABX9TyNqmGveGKPovxEmPo8bT72X",
      "include_colab_link": true
    },
    "kernelspec": {
      "name": "python3",
      "display_name": "Python 3"
    },
    "language_info": {
      "name": "python"
    }
  },
  "cells": [
    {
      "cell_type": "markdown",
      "metadata": {
        "id": "view-in-github",
        "colab_type": "text"
      },
      "source": [
        "<a href=\"https://colab.research.google.com/github/fpcaforio/grace/blob/master/Grad_CAM.ipynb\" target=\"_parent\"><img src=\"https://colab.research.google.com/assets/colab-badge.svg\" alt=\"Open In Colab\"/></a>"
      ]
    },
    {
      "cell_type": "code",
      "metadata": {
        "id": "3DB0DOM60dWc"
      },
      "source": [
        "import tensorflow as tf\n",
        "import pickle\n",
        "import numpy as np\n",
        "from sklearn.metrics import confusion_matrix\n",
        "import matplotlib.pyplot as plt\n",
        "import cv2"
      ],
      "execution_count": 26,
      "outputs": []
    },
    {
      "cell_type": "code",
      "metadata": {
        "colab": {
          "base_uri": "https://localhost:8080/"
        },
        "id": "oBl8mTaO0qqT",
        "outputId": "55d1ced1-b90c-4eea-c9e0-d2e8f8ab8abd"
      },
      "source": [
        "#CONFIG\n",
        "\n",
        "dataset = 'NLS-KDD'\n",
        "N_CLASSES = 2\n",
        "\n",
        "if dataset == 'NLS-KDD':\n",
        "  print('Dataset: NLS-KDD')\n",
        "  pathMagneto = '/content/drive/MyDrive/Grace/NLS-KDD/magneto/'\n",
        "  size = 12\n",
        "elif dataset == 'UNSW-NB15':\n",
        "  print('Dataset: UNSW-NB15')\n",
        "  pathMagneto = '/content/drive/MyDrive/Grace/UNSW-NB15/magneto/'\n",
        "  size = 15\n",
        "elif dataset == 'KDD-CUP99':  \n",
        "  print('KDD-CUP99')\n",
        "  pathMagneto = '/content/drive/MyDrive/Grace/KDD-CUP99/magneto/'\n",
        "  size = 13\n",
        "\n",
        "from google.colab import drive\n",
        "drive.mount('/content/drive')"
      ],
      "execution_count": 20,
      "outputs": [
        {
          "output_type": "stream",
          "text": [
            "Dataset: NLS-KDD\n",
            "Drive already mounted at /content/drive; to attempt to forcibly remount, call drive.mount(\"/content/drive\", force_remount=True).\n"
          ],
          "name": "stdout"
        }
      ]
    },
    {
      "cell_type": "code",
      "metadata": {
        "colab": {
          "base_uri": "https://localhost:8080/"
        },
        "id": "Qb4pu8Te0-qK",
        "outputId": "6f949185-ba23-472a-904b-e02fbc579368"
      },
      "source": [
        "model = tf.keras.models.load_model(pathMagneto + 'CNN_model.h5')\n",
        "model.summary()\n",
        "\n",
        "last_conv_layer_name = 'conv2'\n",
        "\n",
        "# all layers\n",
        "classifier_layer_names = [\n",
        "    'flatten', 'dense', 'dense_1', 'dense_2',\n",
        "]\n",
        "\n",
        "with open(pathMagneto + 'train_image.pickle', 'rb') as t:\n",
        "    XTrain = pickle.load(t)\n",
        "t.close\n",
        "\n",
        "with open(pathMagneto + 'test_image.pickle', 'rb') as t:\n",
        "    XTest = pickle.load(t)\n",
        "t.close\n",
        "\n",
        "with open(pathMagneto + 'Ytrain.pickle', 'rb') as k:\n",
        "    YTrain = pickle.load(k)\n",
        "k.close\n",
        "\n",
        "with open(pathMagneto + 'Ytest.pickle', 'rb') as k:\n",
        "    YTest = pickle.load(k)\n",
        "k.close\n",
        "\n",
        "XTrain = np.array(XTrain)\n",
        "XTest = np.array(XTest)\n",
        "YTrain = np.array(YTrain)\n",
        "YTest = np.array(YTest)\n",
        "\n",
        "print('XTrain: ', XTrain.shape)\n",
        "print('XTest: ',XTest.shape)\n",
        "print('YTrain: ',YTrain.shape)\n",
        "print('YTest: ',YTest.shape)"
      ],
      "execution_count": 14,
      "outputs": [
        {
          "output_type": "stream",
          "text": [
            "Model: \"model\"\n",
            "_________________________________________________________________\n",
            "Layer (type)                 Output Shape              Param #   \n",
            "=================================================================\n",
            "input_1 (InputLayer)         [(None, 12, 12, 3)]       0         \n",
            "_________________________________________________________________\n",
            "conv0 (Conv2D)               (None, 9, 9, 32)          1568      \n",
            "_________________________________________________________________\n",
            "dropout (Dropout)            (None, 9, 9, 32)          0         \n",
            "_________________________________________________________________\n",
            "conv1 (Conv2D)               (None, 6, 6, 64)          32832     \n",
            "_________________________________________________________________\n",
            "dropout_1 (Dropout)          (None, 6, 6, 64)          0         \n",
            "_________________________________________________________________\n",
            "conv2 (Conv2D)               (None, 3, 3, 128)         131200    \n",
            "_________________________________________________________________\n",
            "flatten (Flatten)            (None, 1152)              0         \n",
            "_________________________________________________________________\n",
            "dense (Dense)                (None, 256)               295168    \n",
            "_________________________________________________________________\n",
            "dense_1 (Dense)              (None, 1024)              263168    \n",
            "_________________________________________________________________\n",
            "dense_2 (Dense)              (None, 2)                 2050      \n",
            "=================================================================\n",
            "Total params: 725,986\n",
            "Trainable params: 725,986\n",
            "Non-trainable params: 0\n",
            "_________________________________________________________________\n",
            "XTrain:  (125973, 12, 12)\n",
            "XTest:  (22544, 12, 12)\n",
            "YTrain:  (125973,)\n",
            "YTest:  (22544,)\n"
          ],
          "name": "stdout"
        }
      ]
    },
    {
      "cell_type": "code",
      "metadata": {
        "colab": {
          "base_uri": "https://localhost:8080/"
        },
        "id": "M5082qNq2pkq",
        "outputId": "ff97602d-0b04-47a0-ab6d-9e8b96682bd9"
      },
      "source": [
        "imgrgb = np.stack((XTest,)*3, axis=-1)\n",
        "preds = model.predict(imgrgb, verbose=1)\n",
        "y_pred = np.argmax(preds, axis=1)\n",
        "con_mat = confusion_matrix(YTest, y_pred)\n",
        "\n",
        "tp = con_mat[0][0]  # attacks true\n",
        "fn = con_mat[0][1]  # attacs predict normal\n",
        "fp = con_mat[1][0]  # normal predict attacks\n",
        "tn = con_mat[1][1]  # normal as normal\n",
        "attacks = tp + fn\n",
        "normals = fp + tn\n",
        "OA = (tp + tn) / (attacks + normals)\n",
        "AA = ((tp / attacks) + (tn / normals)) / N_CLASSES\n",
        "P = tp / (tp + fp)\n",
        "R = tp / (tp + fn)\n",
        "F1 = 2 * ((P * R) / (P + R))\n",
        "FAR = fp / (fp + tn)\n",
        "TPR = tp / (tp + fn)\n",
        "r = (tp, fn, fp, tn, OA, AA, P, R, F1, FAR, TPR)\n",
        "\n",
        "print(r)"
      ],
      "execution_count": 18,
      "outputs": [
        {
          "output_type": "stream",
          "text": [
            "705/705 [==============================] - 4s 5ms/step\n",
            "(9201, 3632, 728, 8983, 0.8066004258339248, 0.8210065645057698, 0.9266794239097593, 0.7169796618093977, 0.808452684298392, 0.0749665327978581, 0.7169796618093977)\n"
          ],
          "name": "stdout"
        }
      ]
    },
    {
      "cell_type": "code",
      "metadata": {
        "id": "YQzsgzeK2VAh"
      },
      "source": [
        "def make_gradcam_heatmap(img_array, model, last_conv_layer_name, classifier_layer_names):\n",
        "\n",
        "    last_conv_layer = model.get_layer(last_conv_layer_name)\n",
        "    last_conv_layer_model = tf.keras.Model(model.inputs, last_conv_layer.output)\n",
        "\n",
        "    classifier_input = tf.keras.Input(shape=last_conv_layer.output.shape[1:])\n",
        "    x = classifier_input\n",
        "    for layer_name in classifier_layer_names:\n",
        "        x = model.get_layer(layer_name)(x)\n",
        "    classifier_model = tf.keras.Model(classifier_input, x)\n",
        "\n",
        "    with tf.GradientTape() as tape:\n",
        "        last_conv_layer_output = last_conv_layer_model(img_array)\n",
        "        tape.watch(last_conv_layer_output)\n",
        "        preds = classifier_model(last_conv_layer_output)\n",
        "        top_pred_index = tf.argmax(preds[0])\n",
        "        top_class_channel = preds[:, top_pred_index]\n",
        "\n",
        "    grads = tape.gradient(top_class_channel, last_conv_layer_output)\n",
        "\n",
        "    pooled_grads = tf.reduce_mean(grads, axis=(0, 1, 2))\n",
        "\n",
        "    last_conv_layer_output = last_conv_layer_output.numpy()[0]\n",
        "    pooled_grads = pooled_grads.numpy()\n",
        "\n",
        "    for i in range(pooled_grads.shape[-1]):  # 128\n",
        "        last_conv_layer_output[:, :, i] *= pooled_grads[i]\n",
        "\n",
        "    heatmap = np.mean(last_conv_layer_output, axis=-1)\n",
        "    heatmap = np.maximum(heatmap, 0) / np.max(heatmap)\n",
        "\n",
        "    return heatmap"
      ],
      "execution_count": 19,
      "outputs": []
    },
    {
      "cell_type": "code",
      "metadata": {
        "id": "ezefS_Dh7wCV"
      },
      "source": [
        "imgrgb = np.stack((XTrain,)*3, axis=-1)\n",
        "\n",
        "XTrain_heatmap = []\n",
        "\n",
        "for i in range (0, len(XTrain)):\n",
        "  \n",
        "  print('Istanza #: ', i)\n",
        "\n",
        "  array = np.expand_dims(imgrgb[i], axis=0)\n",
        "  heatmap = make_gradcam_heatmap(array, model, last_conv_layer_name, classifier_layer_names)\n",
        "  heatmap = cv2.resize(heatmap, (size, size))\n",
        "  #plt.imshow(heatmap)\n",
        "  #plt.show()\n",
        "  XTrain_heatmap.append(heatmap)\n",
        "\n",
        "#f_myfile = open(pathSave, 'wb') \n",
        "#pickle.dump(XTrain_heatmap, f_myfile)\n",
        "#f_myfile.close()"
      ],
      "execution_count": null,
      "outputs": []
    },
    {
      "cell_type": "code",
      "metadata": {
        "id": "HMHKfnx671Y7"
      },
      "source": [
        "imgrgb = np.stack((XTest,)*3, axis=-1)\n",
        "\n",
        "XTest_heatmap = []\n",
        "\n",
        "for i in range (0, len(XTest)):\n",
        "\n",
        "  print('Istanza #: ', i)\n",
        "\n",
        "  array = np.expand_dims(imgrgb[i], axis=0)\n",
        "  heatmap = make_gradcam_heatmap(array, model, last_conv_layer_name, classifier_layer_names)\n",
        "  heatmap = cv2.resize(heatmap, (size, size))\n",
        "  #plt.imshow(heatmap)\n",
        "  #plt.show()\n",
        "  XTest_heatmap.append(heatmap)\n",
        "\n",
        "#f_myfile = open(pathSave, 'wb') \n",
        "#pickle.dump(XTrain_heatmap, f_myfile)\n",
        "#f_myfile.close()"
      ],
      "execution_count": null,
      "outputs": []
    }
  ]
}