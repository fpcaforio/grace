{
  "nbformat": 4,
  "nbformat_minor": 0,
  "metadata": {
    "colab": {
      "name": "GRACE.ipynb",
      "provenance": [],
      "collapsed_sections": [],
      "machine_shape": "hm",
      "authorship_tag": "ABX9TyPIbSEtktEUysLKfaPIFQ+O",
      "include_colab_link": true
    },
    "kernelspec": {
      "name": "python3",
      "display_name": "Python 3"
    },
    "language_info": {
      "name": "python"
    },
    "accelerator": "GPU"
  },
  "cells": [
    {
      "cell_type": "markdown",
      "metadata": {
        "id": "view-in-github",
        "colab_type": "text"
      },
      "source": [
        "<a href=\"https://colab.research.google.com/github/fpcaforio/grace/blob/master/GRACE.ipynb\" target=\"_parent\"><img src=\"https://colab.research.google.com/assets/colab-badge.svg\" alt=\"Open In Colab\"/></a>"
      ]
    },
    {
      "cell_type": "markdown",
      "metadata": {
        "id": "ljq8_041jkDc"
      },
      "source": [
        "# NLS-KDD"
      ]
    },
    {
      "cell_type": "code",
      "metadata": {
        "id": "mAtecZlfjmsr",
        "colab": {
          "base_uri": "https://localhost:8080/"
        },
        "outputId": "69ea7a2f-601f-4cd6-9f23-1b66a05d7af9"
      },
      "source": [
        "!pip install -U -q PyDrive\n",
        "import os\n",
        "from pydrive.auth import GoogleAuth\n",
        "from pydrive.drive import GoogleDrive\n",
        "from google.colab import auth\n",
        "from oauth2client.client import GoogleCredentials\n",
        "import numpy as np\n",
        "import pickle\n",
        "from sklearn.cluster import KMeans\n",
        "from sklearn.neighbors import KNeighborsClassifier\n",
        "from sklearn.metrics import confusion_matrix\n",
        "import time\n",
        "\n",
        "from google.colab import drive\n",
        "drive.mount('/content/drive')"
      ],
      "execution_count": 1,
      "outputs": [
        {
          "output_type": "stream",
          "text": [
            "Mounted at /content/drive\n"
          ],
          "name": "stdout"
        }
      ]
    },
    {
      "cell_type": "code",
      "metadata": {
        "id": "QBfjjSHKjpvc"
      },
      "source": [
        "#CONFIG\n",
        "\n",
        "dataset = 'KDD-CUP99'\n",
        "N_CLASSES = 2\n",
        "n_clusters = 1000\n",
        "n_neighbors = 2"
      ],
      "execution_count": 2,
      "outputs": []
    },
    {
      "cell_type": "code",
      "metadata": {
        "colab": {
          "base_uri": "https://localhost:8080/"
        },
        "id": "tAfvwZZFjs2U",
        "outputId": "cc179b8d-f4d1-4ade-d417-455061fb5d51"
      },
      "source": [
        "if dataset == 'NLS-KDD':\n",
        "\n",
        "    print('Dataset: NLS-KDD')\n",
        "\n",
        "    f_myfile = open('/content/drive/MyDrive/Grace/NLS-KDD/heatmap/XTrain_heatmap_12x12.pickle', 'rb')\n",
        "    XTrain = pickle.load(f_myfile)\n",
        "    f_myfile.close()\n",
        "\n",
        "    f_myfile = open('/content/drive/MyDrive/Grace/NLS-KDD/magneto/Ytrain.pickle', 'rb')\n",
        "    YTrain = pickle.load(f_myfile)\n",
        "    f_myfile.close()\n",
        "\n",
        "    f_myfile = open('/content/drive/MyDrive/Grace/NLS-KDD/heatmap/XTest_heatmap_12x12.pickle', 'rb')\n",
        "    XTest = pickle.load(f_myfile)\n",
        "    f_myfile.close()\n",
        "\n",
        "    f_myfile = open('/content/drive/MyDrive/Grace/NLS-KDD/magneto/Ytest.pickle', 'rb')\n",
        "    YTest = pickle.load(f_myfile)\n",
        "    f_myfile.close()\n",
        "\n",
        "    XTrain = np.array(XTrain)\n",
        "    XTrain = np.uint8(255 * XTrain)\n",
        "    XTrain = XTrain / 255\n",
        "    XTrain = XTrain.reshape(-1, (12*12))\n",
        "\n",
        "    XTest = np.array(XTest)\n",
        "    XTest = np.uint8(255 * XTest)\n",
        "    XTest = XTest / 255\n",
        "    XTest = XTest.reshape(-1, (12*12))\n",
        "\n",
        "elif dataset == 'UNSW-NB15':\n",
        "\n",
        "    print('Dataset: UNSW-NB15')\n",
        "\n",
        "    f_myfile = open('/content/drive/MyDrive/Grace/UNSW-NB15/heatmap/XTrain_heatmap_15x15.pickle', 'rb')\n",
        "    XTrain = pickle.load(f_myfile)\n",
        "    f_myfile.close()\n",
        "\n",
        "    f_myfile = open('/content/drive/MyDrive/Grace/UNSW-NB15/heatmap/XTest_heatmap_15x15_1.pickle', 'rb')\n",
        "    XTest1 = pickle.load(f_myfile)\n",
        "    f_myfile.close()\n",
        "\n",
        "    f_myfile = open('/content/drive/MyDrive/Grace/UNSW-NB15/heatmap/XTest_heatmap_15x15_2.pickle', 'rb')\n",
        "    XTest2 = pickle.load(f_myfile)\n",
        "    f_myfile.close()\n",
        "\n",
        "    f_myfile = open('/content/drive/MyDrive/Grace/UNSW-NB15/heatmap/XTest_heatmap_15x15_3.pickle', 'rb')\n",
        "    XTest3 = pickle.load(f_myfile)\n",
        "    f_myfile.close()\n",
        "\n",
        "    f_myfile = open('/content/drive/MyDrive/Grace/UNSW-NB15/heatmap/XTest_heatmap_15x15_4.pickle', 'rb')\n",
        "    XTest4 = pickle.load(f_myfile)\n",
        "    f_myfile.close()\n",
        "\n",
        "    f_myfile = open('/content/drive/MyDrive/Grace/UNSW-NB15/heatmap/XTest_heatmap_15x15_5.pickle', 'rb')\n",
        "    XTest5 = pickle.load(f_myfile)\n",
        "    f_myfile.close()\n",
        "\n",
        "    XTest = XTest1 + XTest2 + XTest3 + XTest4 + XTest5\n",
        "\n",
        "    f_myfile = open('/content/drive/MyDrive/Grace/UNSW-NB15/magneto/Ytrain.pickle', 'rb')\n",
        "    YTrain = pickle.load(f_myfile)\n",
        "    f_myfile.close()\n",
        "\n",
        "    f_myfile = open('/content/drive/MyDrive/Grace/UNSW-NB15/magneto/Ytest.pickle', 'rb')\n",
        "    YTest = pickle.load(f_myfile)\n",
        "    f_myfile.close()\n",
        "\n",
        "\n",
        "    XTrain = np.array(XTrain)\n",
        "    XTrain = np.uint8(255 * XTrain)\n",
        "    XTrain = XTrain / 255\n",
        "\n",
        "    XTest = np.array(XTest)\n",
        "    XTest = np.uint8(255 * XTest)\n",
        "    XTest = XTest / 255\n",
        "\n",
        "    XTrain = XTrain.reshape(-1, (15*15))\n",
        "    XTest = XTest.reshape(-1, (15*15))\n",
        "\n",
        "elif dataset == 'KDD-CUP99':\n",
        "    \n",
        "    print('KDD-CUP99')\n",
        "\n",
        "    f_myfile = open('/content/drive/MyDrive/Grace/KDD-CUP99/heatmap/XTrain_heatmap_13x13_1.pickle', 'rb')\n",
        "    XTrain1 = pickle.load(f_myfile)\n",
        "    f_myfile.close()\n",
        "\n",
        "    f_myfile = open('/content/drive/MyDrive/Grace/KDD-CUP99/heatmap/XTrain_heatmap_13x13_2.pickle', 'rb')\n",
        "    XTrain2 = pickle.load(f_myfile)\n",
        "    f_myfile.close()\n",
        "\n",
        "    f_myfile = open('/content/drive/MyDrive/Grace/KDD-CUP99/heatmap/XTrain_heatmap_13x13_3.pickle', 'rb')\n",
        "    XTrain3 = pickle.load(f_myfile)\n",
        "    f_myfile.close()\n",
        "\n",
        "    f_myfile = open('/content/drive/MyDrive/Grace/KDD-CUP99/heatmap/XTrain_heatmap_13x13_4.pickle', 'rb')\n",
        "    XTrain4 = pickle.load(f_myfile)\n",
        "    f_myfile.close()\n",
        "\n",
        "    f_myfile = open('/content/drive/MyDrive/Grace/KDD-CUP99/heatmap/XTrain_heatmap_13x13_5.pickle', 'rb')\n",
        "    XTrain5 = pickle.load(f_myfile)\n",
        "    f_myfile.close()\n",
        "\n",
        "    f_myfile = open('/content/drive/MyDrive/Grace/KDD-CUP99/heatmap/XTrain_heatmap_13x13_6.pickle', 'rb')\n",
        "    XTrain6 = pickle.load(f_myfile)\n",
        "    f_myfile.close()\n",
        "\n",
        "    f_myfile = open('/content/drive/MyDrive/Grace/KDD-CUP99/heatmap/XTrain_heatmap_13x13_7.pickle', 'rb')\n",
        "    XTrain7 = pickle.load(f_myfile)\n",
        "    f_myfile.close()\n",
        "\n",
        "    f_myfile = open('/content/drive/MyDrive/Grace/KDD-CUP99/heatmap/XTrain_heatmap_13x13_8.pickle', 'rb')\n",
        "    XTrain8 = pickle.load(f_myfile)\n",
        "    f_myfile.close()\n",
        "\n",
        "    f_myfile = open('/content/drive/MyDrive/Grace/KDD-CUP99/heatmap/XTrain_heatmap_13x13_9.pickle', 'rb')\n",
        "    XTrain9 = pickle.load(f_myfile)\n",
        "    f_myfile.close()\n",
        "\n",
        "    f_myfile = open('/content/drive/MyDrive/Grace/KDD-CUP99/heatmap/XTrain_heatmap_13x13_10.pickle', 'rb')\n",
        "    XTrain10 = pickle.load(f_myfile)\n",
        "    f_myfile.close()\n",
        "\n",
        "    f_myfile = open('/content/drive/MyDrive/Grace/KDD-CUP99/heatmap/XTrain_heatmap_13x13_11.pickle', 'rb')\n",
        "    XTrain11 = pickle.load(f_myfile)\n",
        "    f_myfile.close()\n",
        "\n",
        "    f_myfile = open('/content/drive/MyDrive/Grace/KDD-CUP99/heatmap/XTest_heatmap_13x13_1.pickle', 'rb')\n",
        "    XTest1 = pickle.load(f_myfile)\n",
        "    f_myfile.close()\n",
        "\n",
        "    f_myfile = open('/content/drive/MyDrive/Grace/KDD-CUP99/heatmap/XTest_heatmap_13x13_2.pickle', 'rb')\n",
        "    XTest2 = pickle.load(f_myfile)\n",
        "    f_myfile.close()\n",
        "\n",
        "    f_myfile = open('/content/drive/MyDrive/Grace/KDD-CUP99/heatmap/XTest_heatmap_13x13_3.pickle', 'rb')\n",
        "    XTest3 = pickle.load(f_myfile)\n",
        "    f_myfile.close()\n",
        "\n",
        "    f_myfile = open('/content/drive/MyDrive/Grace/KDD-CUP99/heatmap/XTest_heatmap_13x13_4.pickle', 'rb')\n",
        "    XTest4 = pickle.load(f_myfile)\n",
        "    f_myfile.close()\n",
        "\n",
        "    f_myfile = open('/content/drive/MyDrive/Grace/KDD-CUP99/heatmap/XTest_heatmap_13x13_5.pickle', 'rb')\n",
        "    XTest5 = pickle.load(f_myfile)\n",
        "    f_myfile.close()\n",
        "\n",
        "    f_myfile = open('/content/drive/MyDrive/Grace/KDD-CUP99/heatmap/XTest_heatmap_13x13_6.pickle', 'rb')\n",
        "    XTest6 = pickle.load(f_myfile)\n",
        "    f_myfile.close()\n",
        "\n",
        "    f_myfile = open('/content/drive/MyDrive/Grace/KDD-CUP99/heatmap/XTest_heatmap_13x13_7.pickle', 'rb')\n",
        "    XTest7 = pickle.load(f_myfile)\n",
        "    f_myfile.close()\n",
        "\n",
        "    f_myfile = open('/content/drive/MyDrive/Grace/KDD-CUP99/heatmap/XTest_heatmap_13x13_8.pickle', 'rb')\n",
        "    XTest8 = pickle.load(f_myfile)\n",
        "    f_myfile.close()\n",
        "\n",
        "\n",
        "    XTrain = np.concatenate((XTrain1, XTrain2, XTrain3, XTrain4, XTrain5, XTrain6, XTrain7, XTrain8, XTrain9, XTrain10), axis=0)\n",
        "    XTest = np.concatenate((XTest1, XTest2, XTest3, XTest4, XTest5, XTest6, XTest7), axis=0)\n",
        "\n",
        "    f_myfile = open('/content/drive/MyDrive/Grace/KDD-CUP99/magneto/Ytrain.pickle', 'rb')\n",
        "    YTrain = pickle.load(f_myfile)\n",
        "    f_myfile.close()\n",
        "\n",
        "    f_myfile = open('/content/drive/MyDrive/Grace/KDD-CUP99/magneto/Ytest.pickle', 'rb')\n",
        "    YTest = pickle.load(f_myfile)\n",
        "    f_myfile.close()\n",
        "\n",
        "    XTrain = np.array(XTrain)\n",
        "    XTest = np.array(XTest)\n",
        "\n",
        "    XTrain = np.uint8(255 * XTrain)\n",
        "    XTrain = XTrain / 255       \n",
        "    XTrain = XTrain.reshape(-1, (13*13))\n",
        "    XTest = np.uint8(255 * XTest)\n",
        "    XTest = XTest / 255\n",
        "    XTest = XTest.reshape(-1, (13*13))"
      ],
      "execution_count": 5,
      "outputs": [
        {
          "output_type": "stream",
          "text": [
            "KDD-CUP99\n"
          ],
          "name": "stdout"
        }
      ]
    },
    {
      "cell_type": "code",
      "metadata": {
        "colab": {
          "base_uri": "https://localhost:8080/"
        },
        "id": "3sa6TSNUjuek",
        "outputId": "91b573b2-2ebe-411c-a7e4-ad47a8a88213"
      },
      "source": [
        "XTrain_normal = XTrain[np.where(YTrain[:] == 1)]\n",
        "XTrain_attack = XTrain[np.where(YTrain[:] == 0)]\n",
        "\n",
        "print('Training Set - Normal: ', XTrain_normal.shape)\n",
        "print('Training Set - Attack: ', XTrain_attack.shape)"
      ],
      "execution_count": 6,
      "outputs": [
        {
          "output_type": "stream",
          "text": [
            "Training Set - Normal:  (97278, 169)\n",
            "Training Set - Attack:  (396743, 169)\n"
          ],
          "name": "stdout"
        }
      ]
    },
    {
      "cell_type": "code",
      "metadata": {
        "id": "qPW6I2WakEZM"
      },
      "source": [
        "kmeans_normal = KMeans(n_clusters=n_clusters, random_state=0).fit(XTrain_normal)\n",
        "centroids_normal = kmeans_normal.cluster_centers_\n",
        "\n",
        "kmeans_attack = KMeans(n_clusters=n_clusters, random_state=0).fit(XTrain_attack)\n",
        "centroids_attack = kmeans_attack.cluster_centers_\n",
        "\n",
        "centroids = np.concatenate((centroids_normal, centroids_attack), axis=0)\n",
        "centroidsY = np.concatenate((np.ones(n_clusters), np.zeros(n_clusters)), axis=0)"
      ],
      "execution_count": 7,
      "outputs": []
    },
    {
      "cell_type": "code",
      "metadata": {
        "colab": {
          "base_uri": "https://localhost:8080/"
        },
        "id": "ZNOsbUEVkN4M",
        "outputId": "e1787a6c-dfda-4924-eaea-c91dee2d993e"
      },
      "source": [
        "#KNeighborsClassifier\n",
        "\n",
        "classifier = KNeighborsClassifier(n_neighbors=n_neighbors)\n",
        "classifier.fit(centroids, centroidsY)\n",
        "y_pred = classifier.predict(XTest)\n",
        "con_mat = confusion_matrix(YTest, y_pred)\n",
        "\n",
        "tp = con_mat[0][0]  # attacks true\n",
        "fn = con_mat[0][1]  # attacs predict normal\n",
        "fp = con_mat[1][0]  # normal predict attacks\n",
        "tn = con_mat[1][1]  # normal as normal\n",
        "attacks = tp + fn\n",
        "normals = fp + tn\n",
        "OA = (tp + tn) / (attacks + normals)\n",
        "AA = ((tp / attacks) + (tn / normals)) / N_CLASSES\n",
        "P = tp / (tp + fp)\n",
        "R = tp / (tp + fn)\n",
        "F1 = 2 * ((P * R) / (P + R))\n",
        "FAR = fp / (fp + tn)\n",
        "TPR = tp / (tp + fn)\n",
        "r = (tp, fn, fp, tn, OA, AA, P, R, F1, FAR, TPR)\n",
        "\n",
        "print('tp, fn, fp, tn, OA, AA, P, R, F1, FAR, TPR')\n",
        "print(r)"
      ],
      "execution_count": 8,
      "outputs": [
        {
          "output_type": "stream",
          "text": [
            "tp, fn, fp, tn, OA, AA, P, R, F1, FAR, TPR\n",
            "(234634, 15802, 2832, 57761, 0.9400891878249296, 0.945081985391382, 0.988074082184397, 0.9369020428372917, 0.9618079040463043, 0.04673807205452775, 0.9369020428372917)\n"
          ],
          "name": "stdout"
        }
      ]
    },
    {
      "cell_type": "markdown",
      "metadata": {
        "id": "C7-ADS-Di2hM"
      },
      "source": [
        "# KDDCUP99"
      ]
    },
    {
      "cell_type": "code",
      "metadata": {
        "colab": {
          "base_uri": "https://localhost:8080/"
        },
        "id": "7mYKn0Jvkp0T",
        "outputId": "ad6244aa-37e8-4b83-95a8-74bf07cdb566"
      },
      "source": [
        "\n",
        "f_myfile = open('/content/drive/MyDrive/ESPERIMENTI/KDDCUP99/gradcam/pickle/validation/XTrain_heatmap_13x13_1.pickle', 'rb')\n",
        "XTrain1 = pickle.load(f_myfile)\n",
        "f_myfile.close()\n",
        "\n",
        "f_myfile = open('/content/drive/MyDrive/ESPERIMENTI/KDDCUP99/gradcam/pickle/validation/XTrain_heatmap_13x13_2.pickle', 'rb')\n",
        "XTrain2 = pickle.load(f_myfile)\n",
        "f_myfile.close()\n",
        "\n",
        "f_myfile = open('/content/drive/MyDrive/ESPERIMENTI/KDDCUP99/gradcam/pickle/validation/XTrain_heatmap_13x13_3.pickle', 'rb')\n",
        "XTrain3 = pickle.load(f_myfile)\n",
        "f_myfile.close()\n",
        "\n",
        "f_myfile = open('/content/drive/MyDrive/ESPERIMENTI/KDDCUP99/gradcam/pickle/validation/XTrain_heatmap_13x13_4.pickle', 'rb')\n",
        "XTrain4 = pickle.load(f_myfile)\n",
        "f_myfile.close()\n",
        "\n",
        "f_myfile = open('/content/drive/MyDrive/ESPERIMENTI/KDDCUP99/gradcam/pickle/validation/XTrain_heatmap_13x13_5.pickle', 'rb')\n",
        "XTrain5 = pickle.load(f_myfile)\n",
        "f_myfile.close()\n",
        "\n",
        "f_myfile = open('/content/drive/MyDrive/ESPERIMENTI/KDDCUP99/gradcam/pickle/validation/XTrain_heatmap_13x13_6.pickle', 'rb')\n",
        "XTrain6 = pickle.load(f_myfile)\n",
        "f_myfile.close()\n",
        "\n",
        "f_myfile = open('/content/drive/MyDrive/ESPERIMENTI/KDDCUP99/gradcam/pickle/validation/XTrain_heatmap_13x13_7.pickle', 'rb')\n",
        "XTrain7 = pickle.load(f_myfile)\n",
        "f_myfile.close()\n",
        "\n",
        "f_myfile = open('/content/drive/MyDrive/ESPERIMENTI/KDDCUP99/gradcam/pickle/validation/XTrain_heatmap_13x13_8.pickle', 'rb')\n",
        "XTrain8 = pickle.load(f_myfile)\n",
        "f_myfile.close()\n",
        "\n",
        "f_myfile = open('/content/drive/MyDrive/ESPERIMENTI/KDDCUP99/gradcam/pickle/validation/XTrain_heatmap_13x13_9.pickle', 'rb')\n",
        "XTrain9 = pickle.load(f_myfile)\n",
        "f_myfile.close()\n",
        "\n",
        "f_myfile = open('/content/drive/MyDrive/ESPERIMENTI/KDDCUP99/gradcam/pickle/validation/XTrain_heatmap_13x13_10.pickle', 'rb')\n",
        "XTrain10 = pickle.load(f_myfile)\n",
        "f_myfile.close()\n",
        "\n",
        "f_myfile = open('/content/drive/MyDrive/ESPERIMENTI/KDDCUP99/gradcam/pickle/validation/XTrain_heatmap_13x13_11.pickle', 'rb')\n",
        "XTrain11 = pickle.load(f_myfile)\n",
        "f_myfile.close()\n",
        "\n",
        "#heatmap-XTest(8)\n",
        "\n",
        "f_myfile = open('/content/drive/MyDrive/ESPERIMENTI/KDDCUP99/gradcam/pickle/validation/XTest_heatmap_13x13_1.pickle', 'rb')\n",
        "XTest1 = pickle.load(f_myfile)\n",
        "f_myfile.close()\n",
        "\n",
        "f_myfile = open('/content/drive/MyDrive/ESPERIMENTI/KDDCUP99/gradcam/pickle/validation/XTest_heatmap_13x13_2.pickle', 'rb')\n",
        "XTest2 = pickle.load(f_myfile)\n",
        "f_myfile.close()\n",
        "\n",
        "f_myfile = open('/content/drive/MyDrive/ESPERIMENTI/KDDCUP99/gradcam/pickle/validation/XTest_heatmap_13x13_3.pickle', 'rb')\n",
        "XTest3 = pickle.load(f_myfile)\n",
        "f_myfile.close()\n",
        "\n",
        "f_myfile = open('/content/drive/MyDrive/ESPERIMENTI/KDDCUP99/gradcam/pickle/validation/XTest_heatmap_13x13_4.pickle', 'rb')\n",
        "XTest4 = pickle.load(f_myfile)\n",
        "f_myfile.close()\n",
        "\n",
        "f_myfile = open('/content/drive/MyDrive/ESPERIMENTI/KDDCUP99/gradcam/pickle/validation/XTest_heatmap_13x13_5.pickle', 'rb')\n",
        "XTest5 = pickle.load(f_myfile)\n",
        "f_myfile.close()\n",
        "\n",
        "f_myfile = open('/content/drive/MyDrive/ESPERIMENTI/KDDCUP99/gradcam/pickle/validation/XTest_heatmap_13x13_6.pickle', 'rb')\n",
        "XTest6 = pickle.load(f_myfile)\n",
        "f_myfile.close()\n",
        "\n",
        "f_myfile = open('/content/drive/MyDrive/ESPERIMENTI/KDDCUP99/gradcam/pickle/validation/XTest_heatmap_13x13_7.pickle', 'rb')\n",
        "XTest7 = pickle.load(f_myfile)\n",
        "f_myfile.close()\n",
        "\n",
        "f_myfile = open('/content/drive/MyDrive/ESPERIMENTI/KDDCUP99/gradcam/pickle/validation/XTest_heatmap_13x13_8.pickle', 'rb')\n",
        "XTest8 = pickle.load(f_myfile)\n",
        "f_myfile.close()\n",
        "\n",
        "\n",
        "XTrain = np.concatenate((XTrain1, XTrain2, XTrain3, XTrain4, XTrain5, XTrain6, XTrain7, XTrain8, XTrain9, XTrain10), axis=0)\n",
        "XTest = np.concatenate((XTest1, XTest2, XTest3, XTest4, XTest5, XTest6, XTest7), axis=0)\n",
        "\n",
        "f_myfile = open('/content/drive/MyDrive/ESPERIMENTI/KDDCUP99/MAGNETO/13x13/Ytrain.pickle', 'rb')\n",
        "YTrain = pickle.load(f_myfile)\n",
        "f_myfile.close()\n",
        "\n",
        "f_myfile = open('/content/drive/MyDrive/ESPERIMENTI/KDDCUP99/MAGNETO/13x13/Ytest.pickle', 'rb')\n",
        "YTest = pickle.load(f_myfile)\n",
        "f_myfile.close()\n",
        "\n",
        "XTrain = np.array(XTrain)\n",
        "XTest = np.array(XTest)\n",
        "\n",
        "XTrain = np.uint8(255 * XTrain)\n",
        "XTrain = XTrain / 255\n",
        "XTest = np.uint8(255 * XTest)\n",
        "XTest = XTest / 255\n",
        "\n",
        "XTrain = XTrain.reshape(-1, (13*13))\n",
        "XTest = XTest.reshape(-1, (13*13))\n",
        "\n",
        "print(XTrain.shape) \n",
        "print(YTrain.shape)\n",
        "print(XTest.shape) \n",
        "print(YTest.shape)"
      ],
      "execution_count": null,
      "outputs": [
        {
          "output_type": "stream",
          "text": [
            "(494021, 169)\n",
            "(494021,)\n",
            "(311029, 169)\n",
            "(311029,)\n"
          ],
          "name": "stdout"
        }
      ]
    },
    {
      "cell_type": "code",
      "metadata": {
        "colab": {
          "base_uri": "https://localhost:8080/"
        },
        "id": "ElL605ExlHIb",
        "outputId": "10a9a78a-2ddc-4561-8602-0ae2e67b49ae"
      },
      "source": [
        "XTrain_normal = XTrain[np.where(YTrain[:] == 1)]\n",
        "XTrain_attack = XTrain[np.where(YTrain[:] == 0)]\n",
        "\n",
        "print('Train')\n",
        "print('Train normal: ', XTrain_normal.shape)\n",
        "print('Train attack: ', XTrain_attack.shape)"
      ],
      "execution_count": null,
      "outputs": [
        {
          "output_type": "stream",
          "text": [
            "Train\n",
            "Train normal:  (97278, 169)\n",
            "Train attack:  (396743, 169)\n"
          ],
          "name": "stdout"
        }
      ]
    },
    {
      "cell_type": "code",
      "metadata": {
        "id": "EaUjBmbglJQb"
      },
      "source": [
        "#sklearn.cluster.KMeans\n",
        "\n",
        "from sklearn.cluster import KMeans\n",
        "import numpy as np\n",
        "import time\n",
        "\n",
        "start_time = time.time()  #time\n",
        "kmeans_normal = KMeans(n_clusters=500, random_state=0).fit(XTrain_normal)\n",
        "centroids_normal = kmeans_normal.cluster_centers_\n",
        "print(\"%s seconds\" % (time.time() - start_time))  #time\n",
        "\n",
        "start_time = time.time()  #time\n",
        "kmeans_attack = KMeans(n_clusters=500, random_state=0).fit(XTrain_attack)\n",
        "centroids_attack = kmeans_attack.cluster_centers_\n",
        "print(\"%s seconds\" % (time.time() - start_time))  #time"
      ],
      "execution_count": null,
      "outputs": []
    },
    {
      "cell_type": "code",
      "metadata": {
        "id": "jH1V3adiyOU2"
      },
      "source": [
        "#save\n",
        "pickle.dump(kmeans_normal, open(\"/content/drive/MyDrive/ESPERIMENTI/GRACE/KDD-CUP99/10000_mb/kmeans_normal.pkl\", \"wb\"))\n",
        "pickle.dump(kmeans_attack, open(\"/content/drive/MyDrive/ESPERIMENTI/GRACE/KDD-CUP99/10000_mb/kmeans_attack.pkl\", \"wb\"))\n",
        "np.save('/content/drive/MyDrive/ESPERIMENTI/GRACE/KDD-CUP99/10000_mb/centroids_normal.npy', centroids_normal)\n",
        "np.save('/content/drive/MyDrive/ESPERIMENTI/GRACE/KDD-CUP99/10000_mb/centroids_attack.npy', centroids_attack) "
      ],
      "execution_count": null,
      "outputs": []
    },
    {
      "cell_type": "code",
      "metadata": {
        "colab": {
          "base_uri": "https://localhost:8080/"
        },
        "id": "4yNbDEgcpcq7",
        "outputId": "6012ea4e-5fcd-439a-fe1f-2c4187459d15"
      },
      "source": [
        "#****MiniBatchKMeans*******\n",
        "\n",
        "from sklearn.cluster import MiniBatchKMeans\n",
        "import numpy as np\n",
        "import time\n",
        "\n",
        "start_time = time.time()  #time\n",
        "\n",
        "kmeans_normal = MiniBatchKMeans(n_clusters=10000, random_state=0).fit(XTrain_normal)\n",
        "centroids_normal = kmeans_normal.cluster_centers_\n",
        "\n",
        "print(\"%s seconds\" % (time.time() - start_time))  #time\n",
        "\n",
        "start_time = time.time()  #time\n",
        "\n",
        "kmeans_attack = MiniBatchKMeans(n_clusters=10000, random_state=0).fit(XTrain_attack)\n",
        "centroids_attack = kmeans_attack.cluster_centers_\n",
        "print(\"%s seconds\" % (time.time() - start_time))  #time"
      ],
      "execution_count": null,
      "outputs": [
        {
          "output_type": "stream",
          "text": [
            "357.37306904792786 seconds\n",
            "399.6844871044159 seconds\n"
          ],
          "name": "stdout"
        }
      ]
    },
    {
      "cell_type": "code",
      "metadata": {
        "colab": {
          "base_uri": "https://localhost:8080/"
        },
        "id": "w0reogs2lLhD",
        "outputId": "b9cce61a-044d-4ff7-e43c-19e14ce5fa44"
      },
      "source": [
        "print(centroids_normal.shape)\n",
        "print(centroids_attack.shape)\n",
        "\n",
        "#centroids_normal= np.array(centroids_normal)\n",
        "#centroids_attack= np.array(centroids_attack)\n",
        "\n",
        "centroids = np.concatenate((centroids_normal, centroids_attack), axis=0)\n",
        "centroidsY = np.concatenate((np.ones(10000), np.zeros(10000)), axis=0)\n",
        "\n",
        "print(centroids.shape)\n",
        "print(centroidsY.shape)"
      ],
      "execution_count": null,
      "outputs": [
        {
          "output_type": "stream",
          "text": [
            "(10000, 169)\n",
            "(10000, 169)\n",
            "(20000, 169)\n",
            "(20000,)\n"
          ],
          "name": "stdout"
        }
      ]
    },
    {
      "cell_type": "code",
      "metadata": {
        "colab": {
          "base_uri": "https://localhost:8080/"
        },
        "id": "NzodmP9LlOT6",
        "outputId": "1752825d-477a-4cb7-a37b-5bd6b5e9d0d3"
      },
      "source": [
        "#RISULTATI kNN (senza PCA)\n",
        "from sklearn.neighbors import KNeighborsClassifier\n",
        "from sklearn.metrics import confusion_matrix\n",
        "\n",
        "start_time = time.time()  #time\n",
        "classifier = KNeighborsClassifier(n_neighbors=5)\n",
        "classifier.fit(centroids, centroidsY)\n",
        "print(\"%s seconds\" % (time.time() - start_time))  #time\n",
        "\n",
        "start_time = time.time()  #time\n",
        "y_pred = classifier.predict(XTest)\n",
        "print(\"%s seconds\" % (time.time() - start_time))  #time\n",
        "\n",
        "start_time = time.time()  #time\n",
        "\n",
        "con_mat = confusion_matrix(YTest, y_pred)\n",
        "\n",
        "N_CLASSES = 2\n",
        "tp = con_mat[0][0]  # attacks true\n",
        "fn = con_mat[0][1]  # attacs predict normal\n",
        "fp = con_mat[1][0]  # normal predict attacks\n",
        "tn = con_mat[1][1]  # normal as normal\n",
        "attacks = tp + fn\n",
        "normals = fp + tn\n",
        "OA = (tp + tn) / (attacks + normals)\n",
        "AA = ((tp / attacks) + (tn / normals)) / N_CLASSES\n",
        "P = tp / (tp + fp)\n",
        "R = tp / (tp + fn)\n",
        "F1 = 2 * ((P * R) / (P + R))\n",
        "FAR = fp / (fp + tn)\n",
        "TPR = tp / (tp + fn)\n",
        "r = (tp, fn, fp, tn, OA, AA, P, R, F1, FAR, TPR)\n",
        "\n",
        "print('RESULT')\n",
        "print(r)\n",
        "\n",
        "print(\"%s seconds\" % (time.time() - start_time))  #time"
      ],
      "execution_count": null,
      "outputs": [
        {
          "output_type": "stream",
          "text": [
            "0.43520426750183105 seconds\n",
            "44.27198839187622 seconds\n",
            "RESULT\n",
            "(227115, 23321, 337, 60256, 0.9239363532017915, 0.9506583527586384, 0.9985183687107609, 0.9068784040633135, 0.9504946765769384, 0.005561698546036671, 0.9068784040633135)\n",
            "0.24316954612731934 seconds\n"
          ],
          "name": "stdout"
        }
      ]
    },
    {
      "cell_type": "code",
      "metadata": {
        "colab": {
          "base_uri": "https://localhost:8080/"
        },
        "id": "MKQFqmuBRJY5",
        "outputId": "85dbf97d-49bc-474f-84ac-f40c0729f77c"
      },
      "source": [
        "print(\n",
        "904.2282316684723 +\n",
        "15743.142695727400000 +\n",
        "25906.5752635002136 +\n",
        "709.9252226352692 +\n",
        "2145.7426924705505 +\n",
        "0.024927616119384766 \n",
        ")\n",
        "\n",
        "print(\n",
        "194.16853904724121 +\n",
        "1214.857304272620000 +\n",
        "16310.2735204696655 +\n",
        "25.797962427139282\n",
        ")"
      ],
      "execution_count": null,
      "outputs": [
        {
          "output_type": "stream",
          "text": [
            "45409.63903361803\n",
            "17745.097326216666\n"
          ],
          "name": "stdout"
        }
      ]
    }
  ]
}