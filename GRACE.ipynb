{
  "nbformat": 4,
  "nbformat_minor": 0,
  "metadata": {
    "accelerator": "GPU",
    "colab": {
      "name": "GRACE.ipynb",
      "provenance": [],
      "collapsed_sections": [],
      "machine_shape": "hm",
      "authorship_tag": "ABX9TyMIIOWVGOD1qwqQs5TuAcHV",
      "include_colab_link": true
    },
    "kernelspec": {
      "display_name": "Python 3",
      "name": "python3"
    },
    "language_info": {
      "name": "python"
    }
  },
  "cells": [
    {
      "cell_type": "markdown",
      "metadata": {
        "id": "view-in-github",
        "colab_type": "text"
      },
      "source": [
        "<a href=\"https://colab.research.google.com/github/fpcaforio/grace/blob/master/GRACE.ipynb\" target=\"_parent\"><img src=\"https://colab.research.google.com/assets/colab-badge.svg\" alt=\"Open In Colab\"/></a>"
      ]
    },
    {
      "cell_type": "markdown",
      "metadata": {
        "id": "b8jK1fmGbhPF"
      },
      "source": [
        "# GRACE"
      ]
    },
    {
      "cell_type": "code",
      "metadata": {
        "colab": {
          "base_uri": "https://localhost:8080/"
        },
        "id": "xuvRC3NBbhdL",
        "outputId": "f852d382-b0ef-4904-ae0b-a5746641aa59"
      },
      "source": [
        "!pip install -U -q PyDrive\n",
        "import os\n",
        "from pydrive.auth import GoogleAuth\n",
        "from pydrive.drive import GoogleDrive\n",
        "from google.colab import auth\n",
        "from oauth2client.client import GoogleCredentials\n",
        "import numpy as np\n",
        "import pickle\n",
        "from sklearn.cluster import KMeans\n",
        "import numpy as np\n",
        "import time\n",
        "from sklearn.neighbors import KNeighborsClassifier\n",
        "from sklearn.metrics import confusion_matrix\n",
        "\n",
        "from google.colab import drive\n",
        "drive.mount('/content/drive')"
      ],
      "execution_count": 1,
      "outputs": [
        {
          "output_type": "stream",
          "text": [
            "Mounted at /content/drive\n"
          ],
          "name": "stdout"
        }
      ]
    },
    {
      "cell_type": "code",
      "metadata": {
        "colab": {
          "base_uri": "https://localhost:8080/"
        },
        "id": "QBfjjSHKjpvc",
        "outputId": "3524dbb5-a8f8-46fd-99f7-8fb3c9d87b02"
      },
      "source": [
        "#CONFIG\n",
        "\n",
        "dataset = 'KDD-CUP99'\n",
        "N_CLASSES = 2\n",
        "n_clusters = 1000\n",
        "n_neighbors = 2\n",
        "\n",
        "if dataset == 'NLS-KDD':\n",
        "  print('Dataset: NLS-KDD')\n",
        "  pathHeatmap = '/content/drive/MyDrive/Grace/NLS-KDD/heatmap/'\n",
        "  pathMagneto = '/content/drive/MyDrive/Grace/NLS-KDD/magneto/'\n",
        "  size = 12\n",
        "elif dataset == 'UNSW-NB15':\n",
        "  print('Dataset: UNSW-NB15')\n",
        "  pathHeatmap = '/content/drive/MyDrive/Grace/UNSW-NB15/heatmap/'\n",
        "  pathMagneto = '/content/drive/MyDrive/Grace/UNSW-NB15/magneto/'\n",
        "  size = 15\n",
        "elif dataset == 'KDD-CUP99':  \n",
        "  print('KDD-CUP99')\n",
        "  pathHeatmap = '/content/drive/MyDrive/Grace/KDD-CUP99/heatmap/'\n",
        "  pathMagneto = '/content/drive/MyDrive/Grace/KDD-CUP99/magneto/'\n",
        "  size = 13"
      ],
      "execution_count": 2,
      "outputs": [
        {
          "output_type": "stream",
          "text": [
            "KDD-CUP99\n"
          ],
          "name": "stdout"
        }
      ]
    },
    {
      "cell_type": "code",
      "metadata": {
        "colab": {
          "base_uri": "https://localhost:8080/"
        },
        "id": "tAfvwZZFjs2U",
        "outputId": "5b45adea-48b8-4ead-f74b-b0fbbea99b38"
      },
      "source": [
        "f_myfile = open(pathHeatmap + 'XTrain_heatmap.pickle', 'rb')\n",
        "XTrain = pickle.load(f_myfile)\n",
        "f_myfile.close()\n",
        "\n",
        "f_myfile = open(pathMagneto + 'Ytrain.pickle', 'rb')\n",
        "YTrain = pickle.load(f_myfile)\n",
        "f_myfile.close()\n",
        "\n",
        "f_myfile = open(pathHeatmap + 'XTest_heatmap.pickle', 'rb')\n",
        "XTest = pickle.load(f_myfile)\n",
        "f_myfile.close()\n",
        "\n",
        "f_myfile = open(pathMagneto + 'Ytest.pickle', 'rb')\n",
        "YTest = pickle.load(f_myfile)\n",
        "f_myfile.close()\n",
        "\n",
        "XTrain = np.array(XTrain)\n",
        "XTrain = np.uint8(255 * XTrain)\n",
        "XTrain = XTrain / 255\n",
        "XTrain = XTrain.reshape(-1, (size*size))\n",
        "\n",
        "XTest = np.array(XTest)\n",
        "XTest = np.uint8(255 * XTest)\n",
        "XTest = XTest / 255\n",
        "XTest = XTest.reshape(-1, (size*size))\n",
        "\n",
        "print('Training Set: ', XTrain.shape)\n",
        "print('Training Set: ', XTest.shape)"
      ],
      "execution_count": 3,
      "outputs": [
        {
          "output_type": "stream",
          "text": [
            "Training Set:  (494021, 169)\n",
            "Training Set:  (311029, 169)\n"
          ],
          "name": "stdout"
        }
      ]
    },
    {
      "cell_type": "code",
      "metadata": {
        "colab": {
          "base_uri": "https://localhost:8080/"
        },
        "id": "3sa6TSNUjuek",
        "outputId": "b4c2caf1-3322-4fa8-85d4-1845af3abfbf"
      },
      "source": [
        "XTrain_normal = XTrain[np.where(YTrain[:] == 1)]\n",
        "XTrain_attack = XTrain[np.where(YTrain[:] == 0)]\n",
        "\n",
        "print('Training Set - Normal: ', XTrain_normal.shape)\n",
        "print('Training Set - Attack: ', XTrain_attack.shape)"
      ],
      "execution_count": 4,
      "outputs": [
        {
          "output_type": "stream",
          "text": [
            "Training Set - Normal:  (97278, 169)\n",
            "Training Set - Attack:  (396743, 169)\n"
          ],
          "name": "stdout"
        }
      ]
    },
    {
      "cell_type": "code",
      "metadata": {
        "id": "qPW6I2WakEZM"
      },
      "source": [
        "kmeans_normal = KMeans(n_clusters=n_clusters, random_state=0).fit(XTrain_normal)\n",
        "centroids_normal = kmeans_normal.cluster_centers_\n",
        "\n",
        "kmeans_attack = KMeans(n_clusters=n_clusters, random_state=0).fit(XTrain_attack)\n",
        "centroids_attack = kmeans_attack.cluster_centers_\n",
        "\n",
        "centroids = np.concatenate((centroids_normal, centroids_attack), axis=0)\n",
        "centroidsY = np.concatenate((np.ones(n_clusters), np.zeros(n_clusters)), axis=0)"
      ],
      "execution_count": 5,
      "outputs": []
    },
    {
      "cell_type": "code",
      "metadata": {
        "colab": {
          "base_uri": "https://localhost:8080/"
        },
        "id": "ZNOsbUEVkN4M",
        "outputId": "d2de0ba3-2a28-4b5f-b048-70ab3ffc7b63"
      },
      "source": [
        "#KNeighborsClassifier\n",
        "\n",
        "classifier = KNeighborsClassifier(n_neighbors=n_neighbors)\n",
        "classifier.fit(centroids, centroidsY)\n",
        "y_pred = classifier.predict(XTest)\n",
        "con_mat = confusion_matrix(YTest, y_pred)\n",
        "\n",
        "tp = con_mat[0][0]  # attacks true\n",
        "fn = con_mat[0][1]  # attacs predict normal\n",
        "fp = con_mat[1][0]  # normal predict attacks\n",
        "tn = con_mat[1][1]  # normal as normal\n",
        "attacks = tp + fn\n",
        "normals = fp + tn\n",
        "OA = (tp + tn) / (attacks + normals)\n",
        "AA = ((tp / attacks) + (tn / normals)) / N_CLASSES\n",
        "P = tp / (tp + fp)\n",
        "R = tp / (tp + fn)\n",
        "F1 = 2 * ((P * R) / (P + R))\n",
        "FAR = fp / (fp + tn)\n",
        "TPR = tp / (tp + fn)\n",
        "r = (tp, fn, fp, tn, OA, AA, P, R, F1, FAR, TPR)\n",
        "\n",
        "print('tp, fn, fp, tn, OA, AA, P, R, F1, FAR, TPR')\n",
        "print(r)"
      ],
      "execution_count": 6,
      "outputs": [
        {
          "output_type": "stream",
          "text": [
            "tp, fn, fp, tn, OA, AA, P, R, F1, FAR, TPR\n",
            "(234634, 15802, 2832, 57761, 0.9400891878249296, 0.945081985391382, 0.988074082184397, 0.9369020428372917, 0.9618079040463043, 0.04673807205452775, 0.9369020428372917)\n"
          ],
          "name": "stdout"
        }
      ]
    }
  ]
}