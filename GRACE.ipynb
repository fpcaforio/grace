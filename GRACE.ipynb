{
  "nbformat": 4,
  "nbformat_minor": 0,
  "metadata": {
    "colab": {
      "name": "GRACE.ipynb",
      "provenance": [],
      "collapsed_sections": [],
      "machine_shape": "hm",
      "authorship_tag": "ABX9TyMvGcU72aq267BePbzdp+eb",
      "include_colab_link": true
    },
    "kernelspec": {
      "name": "python3",
      "display_name": "Python 3"
    },
    "language_info": {
      "name": "python"
    },
    "accelerator": "GPU"
  },
  "cells": [
    {
      "cell_type": "markdown",
      "metadata": {
        "id": "view-in-github",
        "colab_type": "text"
      },
      "source": [
        "<a href=\"https://colab.research.google.com/github/fpcaforio/grace/blob/master/GRACE.ipynb\" target=\"_parent\"><img src=\"https://colab.research.google.com/assets/colab-badge.svg\" alt=\"Open In Colab\"/></a>"
      ]
    },
    {
      "cell_type": "markdown",
      "metadata": {
        "id": "ljq8_041jkDc"
      },
      "source": [
        "# NLS-KDD"
      ]
    },
    {
      "cell_type": "code",
      "metadata": {
        "id": "mAtecZlfjmsr",
        "colab": {
          "base_uri": "https://localhost:8080/"
        },
        "outputId": "cad59a9e-da52-49d2-b6c3-0334e1238285"
      },
      "source": [
        "!pip install -U -q PyDrive\n",
        "import os\n",
        "from pydrive.auth import GoogleAuth\n",
        "from pydrive.drive import GoogleDrive\n",
        "from google.colab import auth\n",
        "from oauth2client.client import GoogleCredentials\n",
        "import numpy as np\n",
        "import pickle\n",
        "from sklearn.cluster import KMeans\n",
        "from sklearn.neighbors import KNeighborsClassifier\n",
        "from sklearn.metrics import confusion_matrix\n",
        "import time\n",
        "\n",
        "from google.colab import drive\n",
        "drive.mount('/content/drive')"
      ],
      "execution_count": 1,
      "outputs": [
        {
          "output_type": "stream",
          "text": [
            "Mounted at /content/drive\n"
          ],
          "name": "stdout"
        }
      ]
    },
    {
      "cell_type": "code",
      "metadata": {
        "colab": {
          "base_uri": "https://localhost:8080/"
        },
        "id": "QBfjjSHKjpvc",
        "outputId": "9821a669-4283-433d-99b1-62f6d5f58c94"
      },
      "source": [
        "#CONFIG\n",
        "\n",
        "dataset = 'UNSW-NB15'\n",
        "N_CLASSES = 2\n",
        "n_clusters = 1000\n",
        "n_neighbors = 2\n",
        "\n",
        "if dataset == 'NLS-KDD':\n",
        "  print('Dataset: NLS-KDD')\n",
        "  pathHeatmap = '/content/drive/MyDrive/Grace/NLS-KDD/heatmap/'\n",
        "  pathMagneto = '/content/drive/MyDrive/Grace/NLS-KDD/magneto/'\n",
        "  size = 12\n",
        "elif dataset == 'UNSW-NB15':\n",
        "  print('Dataset: UNSW-NB15')\n",
        "  pathHeatmap = '/content/drive/MyDrive/Grace/UNSW-NB15/heatmap/'\n",
        "  pathMagneto = '/content/drive/MyDrive/Grace/UNSW-NB15/magneto/'\n",
        "  size = 15\n",
        "elif dataset == 'KDD-CUP99':  \n",
        "  print('KDD-CUP99')\n",
        "  pathHeatmap = '/content/drive/MyDrive/Grace/KDD-CUP99/heatmap/'\n",
        "  pathMagneto = '/content/drive/MyDrive/Grace/KDD-CUP99/magneto/'\n",
        "  size = 13"
      ],
      "execution_count": 2,
      "outputs": [
        {
          "output_type": "stream",
          "text": [
            "Dataset: UNSW-NB15\n"
          ],
          "name": "stdout"
        }
      ]
    },
    {
      "cell_type": "code",
      "metadata": {
        "colab": {
          "base_uri": "https://localhost:8080/"
        },
        "id": "tAfvwZZFjs2U",
        "outputId": "9534e84c-27ba-42f5-be6f-c9ed1003c7ff"
      },
      "source": [
        "f_myfile = open(pathHeatmap + 'XTrain_heatmap.pickle', 'rb')\n",
        "XTrain = pickle.load(f_myfile)\n",
        "f_myfile.close()\n",
        "\n",
        "f_myfile = open(pathMagneto + 'Ytrain.pickle', 'rb')\n",
        "YTrain = pickle.load(f_myfile)\n",
        "f_myfile.close()\n",
        "\n",
        "f_myfile = open(pathHeatmap + 'XTest_heatmap.pickle', 'rb')\n",
        "XTest = pickle.load(f_myfile)\n",
        "f_myfile.close()\n",
        "\n",
        "f_myfile = open(pathMagneto + 'Ytest.pickle', 'rb')\n",
        "YTest = pickle.load(f_myfile)\n",
        "f_myfile.close()\n",
        "\n",
        "XTrain = np.array(XTrain)\n",
        "XTrain = np.uint8(255 * XTrain)\n",
        "XTrain = XTrain / 255\n",
        "XTrain = XTrain.reshape(-1, (size*size))\n",
        "\n",
        "XTest = np.array(XTest)\n",
        "XTest = np.uint8(255 * XTest)\n",
        "XTest = XTest / 255\n",
        "XTest = XTest.reshape(-1, (size*size))\n",
        "\n",
        "print('Training Set: ', XTrain.shape)\n",
        "print('Training Set: ', XTest.shape)"
      ],
      "execution_count": 5,
      "outputs": [
        {
          "output_type": "stream",
          "text": [
            "Training Set:  (82332, 225)\n",
            "Training Set:  (175341, 225)\n"
          ],
          "name": "stdout"
        }
      ]
    },
    {
      "cell_type": "code",
      "metadata": {
        "colab": {
          "base_uri": "https://localhost:8080/"
        },
        "id": "3sa6TSNUjuek",
        "outputId": "01391c3f-df25-4554-cc52-d9c584c280ed"
      },
      "source": [
        "XTrain_normal = XTrain[np.where(YTrain[:] == 1)]\n",
        "XTrain_attack = XTrain[np.where(YTrain[:] == 0)]\n",
        "\n",
        "print('Training Set - Normal: ', XTrain_normal.shape)\n",
        "print('Training Set - Attack: ', XTrain_attack.shape)"
      ],
      "execution_count": 6,
      "outputs": [
        {
          "output_type": "stream",
          "text": [
            "Training Set - Normal:  (37000, 225)\n",
            "Training Set - Attack:  (45332, 225)\n"
          ],
          "name": "stdout"
        }
      ]
    },
    {
      "cell_type": "code",
      "metadata": {
        "id": "qPW6I2WakEZM"
      },
      "source": [
        "kmeans_normal = KMeans(n_clusters=n_clusters, random_state=0).fit(XTrain_normal)\n",
        "centroids_normal = kmeans_normal.cluster_centers_\n",
        "\n",
        "kmeans_attack = KMeans(n_clusters=n_clusters, random_state=0).fit(XTrain_attack)\n",
        "centroids_attack = kmeans_attack.cluster_centers_\n",
        "\n",
        "centroids = np.concatenate((centroids_normal, centroids_attack), axis=0)\n",
        "centroidsY = np.concatenate((np.ones(n_clusters), np.zeros(n_clusters)), axis=0)"
      ],
      "execution_count": 7,
      "outputs": []
    },
    {
      "cell_type": "code",
      "metadata": {
        "colab": {
          "base_uri": "https://localhost:8080/"
        },
        "id": "ZNOsbUEVkN4M",
        "outputId": "e6a3bd32-9fd2-473c-dbe5-31b8ad7f2b7b"
      },
      "source": [
        "#KNeighborsClassifier\n",
        "\n",
        "classifier = KNeighborsClassifier(n_neighbors=n_neighbors)\n",
        "classifier.fit(centroids, centroidsY)\n",
        "y_pred = classifier.predict(XTest)\n",
        "con_mat = confusion_matrix(YTest, y_pred)\n",
        "\n",
        "tp = con_mat[0][0]  # attacks true\n",
        "fn = con_mat[0][1]  # attacs predict normal\n",
        "fp = con_mat[1][0]  # normal predict attacks\n",
        "tn = con_mat[1][1]  # normal as normal\n",
        "attacks = tp + fn\n",
        "normals = fp + tn\n",
        "OA = (tp + tn) / (attacks + normals)\n",
        "AA = ((tp / attacks) + (tn / normals)) / N_CLASSES\n",
        "P = tp / (tp + fp)\n",
        "R = tp / (tp + fn)\n",
        "F1 = 2 * ((P * R) / (P + R))\n",
        "FAR = fp / (fp + tn)\n",
        "TPR = tp / (tp + fn)\n",
        "r = (tp, fn, fp, tn, OA, AA, P, R, F1, FAR, TPR)\n",
        "\n",
        "print('tp, fn, fp, tn, OA, AA, P, R, F1, FAR, TPR')\n",
        "print(r)"
      ],
      "execution_count": 8,
      "outputs": [
        {
          "output_type": "stream",
          "text": [
            "tp, fn, fp, tn, OA, AA, P, R, F1, FAR, TPR\n",
            "(116615, 2726, 9589, 46411, 0.9297654285078789, 0.9029628746167944, 0.9240198408925232, 0.9771578920907316, 0.9498462603596083, 0.17123214285714286, 0.9771578920907316)\n"
          ],
          "name": "stdout"
        }
      ]
    }
  ]
}