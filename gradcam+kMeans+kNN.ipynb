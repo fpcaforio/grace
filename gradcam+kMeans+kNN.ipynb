{
  "nbformat": 4,
  "nbformat_minor": 0,
  "metadata": {
    "colab": {
      "name": "gradcam+kMeans+kNN.ipynb",
      "provenance": [],
      "collapsed_sections": [],
      "toc_visible": true,
      "machine_shape": "hm",
      "authorship_tag": "ABX9TyNiFgwgD9CLQX2SxBA7xkdb",
      "include_colab_link": true
    },
    "kernelspec": {
      "name": "python3",
      "display_name": "Python 3"
    },
    "language_info": {
      "name": "python"
    },
    "accelerator": "GPU"
  },
  "cells": [
    {
      "cell_type": "markdown",
      "metadata": {
        "id": "view-in-github",
        "colab_type": "text"
      },
      "source": [
        "<a href=\"https://colab.research.google.com/github/fpcaforio/grace/blob/master/gradcam%2BkMeans%2BkNN.ipynb\" target=\"_parent\"><img src=\"https://colab.research.google.com/assets/colab-badge.svg\" alt=\"Open In Colab\"/></a>"
      ]
    },
    {
      "cell_type": "markdown",
      "metadata": {
        "id": "ljq8_041jkDc"
      },
      "source": [
        "# NLS-KDD"
      ]
    },
    {
      "cell_type": "code",
      "metadata": {
        "id": "mAtecZlfjmsr",
        "colab": {
          "base_uri": "https://localhost:8080/"
        },
        "outputId": "e7a90be8-5e03-4a80-b8b5-60854781187a"
      },
      "source": [
        "#import\n",
        "\n",
        "!pip install -U -q PyDrive\n",
        "import os\n",
        "from pydrive.auth import GoogleAuth\n",
        "from pydrive.drive import GoogleDrive\n",
        "from google.colab import auth\n",
        "from oauth2client.client import GoogleCredentials\n",
        "import numpy as np\n",
        "from keras.models import load_model\n",
        "\n",
        "import tensorflow as tf\n",
        "from tensorflow import keras\n",
        "\n",
        "# Display\n",
        "from IPython.display import Image\n",
        "import matplotlib.pyplot as plt\n",
        "import matplotlib.cm as cm\n",
        "\n",
        "from PIL import Image\n",
        "import pickle\n",
        "\n",
        "from keras.layers import Input\n",
        "from keras.layers import Conv2D, MaxPooling2D, AveragePooling2D, Conv1D\n",
        "from keras.models import Model\n",
        "\n",
        "from tensorflow.keras import backend as K\n",
        "#tf.compat.v1.disable_eager_execution()\n",
        "from keras.layers import Input\n",
        "from keras.layers import Conv2D, MaxPooling2D, AveragePooling2D, Conv1D\n",
        "from sklearn.metrics import confusion_matrix\n",
        "\n",
        "\n",
        "import re\n",
        "import numpy as np\n",
        "import pandas as pd\n",
        "#import seaborn as sns\n",
        "import matplotlib.image as mpimg\n",
        "import keras.backend as K\n",
        "\n",
        "from keras.preprocessing import image\n",
        "from keras.layers import Dense, Input, Layer, InputSpec, Conv2D, Flatten, Reshape, Conv2DTranspose\n",
        "from keras.models import Model\n",
        "\n",
        "from sklearn.cluster import KMeans\n",
        "from sklearn.metrics import silhouette_score, calinski_harabasz_score, normalized_mutual_info_score, adjusted_rand_score#, confusion_matrix\n",
        "from sklearn.utils.linear_assignment_ import linear_assignment\n",
        "\n",
        "import warnings\n",
        "warnings.filterwarnings(\"ignore\")\n",
        "\n",
        "np.random.seed(42)\n",
        "\n",
        "from keras import callbacks\n",
        "from sklearn.model_selection import train_test_split\n",
        "\n",
        "\n",
        "import time"
      ],
      "execution_count": 1,
      "outputs": [
        {
          "output_type": "stream",
          "text": [
            "/usr/local/lib/python3.7/dist-packages/sklearn/utils/linear_assignment_.py:22: FutureWarning: The linear_assignment_ module is deprecated in 0.21 and will be removed from 0.23. Use scipy.optimize.linear_sum_assignment instead.\n",
            "  FutureWarning)\n"
          ],
          "name": "stderr"
        }
      ]
    },
    {
      "cell_type": "code",
      "metadata": {
        "colab": {
          "base_uri": "https://localhost:8080/"
        },
        "id": "QBfjjSHKjpvc",
        "outputId": "c626ee1a-263a-4fe0-a5ec-8fc776831f2e"
      },
      "source": [
        "from google.colab import drive\n",
        "drive.mount('/content/drive')"
      ],
      "execution_count": 2,
      "outputs": [
        {
          "output_type": "stream",
          "text": [
            "Mounted at /content/drive\n"
          ],
          "name": "stdout"
        }
      ]
    },
    {
      "cell_type": "code",
      "metadata": {
        "colab": {
          "base_uri": "https://localhost:8080/"
        },
        "id": "tAfvwZZFjs2U",
        "outputId": "4d8737de-e73c-4f78-e7c7-43d21a9781f9"
      },
      "source": [
        "f_myfile = open('/content/drive/MyDrive/ESPERIMENTI/NLS-KDD/gradcam/pickle/testing/XTrain_heatmap_12x12.pickle', 'rb')\n",
        "XTrain = pickle.load(f_myfile)\n",
        "f_myfile.close()\n",
        "\n",
        "f_myfile = open('/content/drive/MyDrive/ESPERIMENTI/NLS-KDD/MAGNETO/12x12/Ytrain.pickle', 'rb')\n",
        "YTrain = pickle.load(f_myfile)\n",
        "f_myfile.close()\n",
        "\n",
        "f_myfile = open('/content/drive/MyDrive/ESPERIMENTI/NLS-KDD/gradcam/pickle/testing/XTest_heatmap_12x12.pickle', 'rb')\n",
        "XTest = pickle.load(f_myfile)\n",
        "f_myfile.close()\n",
        "\n",
        "f_myfile = open('/content/drive/MyDrive/ESPERIMENTI/NLS-KDD/MAGNETO/12x12/Ytest.pickle', 'rb')\n",
        "YTest = pickle.load(f_myfile)\n",
        "f_myfile.close()\n",
        "\n",
        "XTrain = np.array(XTrain)\n",
        "XTrain = np.uint8(255 * XTrain)\n",
        "XTrain = XTrain / 255\n",
        "\n",
        "XTest = np.array(XTest)\n",
        "XTest = np.uint8(255 * XTest)\n",
        "XTest = XTest / 255\n",
        "\n",
        "#plt.imshow(XTrain[0])\n",
        "\n",
        "XTrain = XTrain.reshape(-1, (12*12))\n",
        "XTest = XTest.reshape(-1, (12*12))\n",
        "\n",
        "print(XTrain.shape)\n",
        "print(XTest.shape)"
      ],
      "execution_count": 3,
      "outputs": [
        {
          "output_type": "stream",
          "text": [
            "(125973, 144)\n",
            "(22544, 144)\n"
          ],
          "name": "stdout"
        }
      ]
    },
    {
      "cell_type": "code",
      "metadata": {
        "id": "9jgZ86vp6xV_"
      },
      "source": [
        "'''\n",
        "img = XTrain[0].reshape(12,12)\n",
        "plt.imshow(img)\n",
        "'''"
      ],
      "execution_count": null,
      "outputs": []
    },
    {
      "cell_type": "code",
      "metadata": {
        "colab": {
          "base_uri": "https://localhost:8080/"
        },
        "id": "3sa6TSNUjuek",
        "outputId": "bd47629e-8956-42c6-f3e5-8de2bf925e21"
      },
      "source": [
        "XTrain_normal = XTrain[np.where(YTrain[:] == 1)]\n",
        "XTrain_attack = XTrain[np.where(YTrain[:] == 0)]\n",
        "\n",
        "print('Train')\n",
        "print('Train normal: ', XTrain_normal.shape)\n",
        "print('Train attack: ', XTrain_attack.shape)"
      ],
      "execution_count": 4,
      "outputs": [
        {
          "output_type": "stream",
          "text": [
            "Train\n",
            "Train normal:  (67343, 144)\n",
            "Train attack:  (58630, 144)\n"
          ],
          "name": "stdout"
        }
      ]
    },
    {
      "cell_type": "code",
      "metadata": {
        "colab": {
          "base_uri": "https://localhost:8080/"
        },
        "id": "qPW6I2WakEZM",
        "outputId": "4c09db18-a880-49dd-d8f4-519b5552d232"
      },
      "source": [
        "#sklearn.cluster.KMeans\n",
        "\n",
        "from sklearn.cluster import KMeans\n",
        "import numpy as np\n",
        "import time\n",
        "\n",
        "start_time = time.time()  #time\n",
        "kmeans_normal = KMeans(n_clusters=1000, random_state=0).fit(XTrain_normal)\n",
        "centroids_normal = kmeans_normal.cluster_centers_\n",
        "print(\"%s seconds\" % (time.time() - start_time))  #time\n",
        "\n",
        "start_time = time.time()  #time\n",
        "kmeans_attack = KMeans(n_clusters=1000, random_state=0).fit(XTrain_attack)\n",
        "centroids_attack = kmeans_attack.cluster_centers_\n",
        "print(centroids_attack)\n",
        "print(\"%s seconds\" % (time.time() - start_time))  #time"
      ],
      "execution_count": 6,
      "outputs": [
        {
          "output_type": "stream",
          "text": [
            "501.12113094329834 seconds\n",
            "[[ 5.81271761e-02  5.81271761e-02  7.10280374e-02 ...  1.11966282e-01\n",
            "   1.10207073e-01  1.10207073e-01]\n",
            " [-9.71445147e-17 -9.71445147e-17  1.38222767e-14 ... -2.93515212e-14\n",
            "  -1.51822999e-14 -1.51822999e-14]\n",
            " [ 2.59383754e-01  2.59383754e-01  2.26890756e-01 ...  2.07002801e-01\n",
            "   9.38375350e-02  9.38375350e-02]\n",
            " ...\n",
            " [ 4.66949666e-02  4.66949666e-02  4.70588235e-02 ...  8.57893673e-02\n",
            "   8.04932282e-02  8.04932282e-02]\n",
            " [ 6.74509804e-01  6.74509804e-01  5.92156863e-01 ...  2.23529412e-01\n",
            "   2.31372549e-01  2.31372549e-01]\n",
            " [ 1.00000000e+00  1.00000000e+00  8.98039216e-01 ...  9.80392157e-02\n",
            "   9.41176471e-02  9.41176471e-02]]\n",
            "365.04761815071106 seconds\n"
          ],
          "name": "stdout"
        }
      ]
    },
    {
      "cell_type": "code",
      "metadata": {
        "id": "k4fK3umcATUE"
      },
      "source": [
        "#save\n",
        "'''\n",
        "pickle.dump(kmeans_normal, open(\"/content/drive/MyDrive/ESPERIMENTI/GRACE/NLS-KDD/10000/kmeans_normal.pkl\", \"wb\"))\n",
        "pickle.dump(kmeans_attack, open(\"/content/drive/MyDrive/ESPERIMENTI/GRACE/NLS-KDD/10000/kmeans_attack.pkl\", \"wb\"))\n",
        "np.save('/content/drive/MyDrive/ESPERIMENTI/GRACE/NLS-KDD/10000/centroids_normal.npy', centroids_normal)\n",
        "np.save('/content/drive/MyDrive/ESPERIMENTI/GRACE/NLS-KDD/10000/centroids_attack.npy', centroids_attack) \n",
        "'''"
      ],
      "execution_count": null,
      "outputs": []
    },
    {
      "cell_type": "code",
      "metadata": {
        "id": "faHnI87_Cp8R"
      },
      "source": [
        "#load \n",
        "\n",
        "'''\n",
        "f_myfile = open('/content/drive/MyDrive/ESPERIMENTI/NLS-KDD/MAGNETO/12x12/Ytrain.pickle', 'rb')\n",
        "YTrain = pickle.load(f_myfile)\n",
        "f_myfile.close()\n",
        "\n",
        "f_myfile = open('/content/drive/MyDrive/ESPERIMENTI/NLS-KDD/MAGNETO/12x12/Ytest.pickle', 'rb')\n",
        "YTest = pickle.load(f_myfile)\n",
        "f_myfile.close()\n",
        "\n",
        "f_myfile = open('/content/drive/MyDrive/ESPERIMENTI/NLS-KDD/gradcam/pickle/testing/XTest_heatmap_12x12.pickle', 'rb')\n",
        "XTest = pickle.load(f_myfile)\n",
        "f_myfile.close()\n",
        "\n",
        "XTest = np.array(XTest)\n",
        "XTest = np.uint8(255 * XTest)\n",
        "XTest = XTest / 255\n",
        "\n",
        "XTest = XTest.reshape(-1, (12*12))\n",
        "'''\n",
        "#load model 1\n",
        "'''\n",
        "kmeans_normal = pickle.load(open(\"/content/drive/MyDrive/ESPERIMENTI/GRACE/NLS-KDD/1000/kmeans_normal.pkl\", \"rb\"))\n",
        "kmeans_attack = pickle.load(open(\"/content/drive/MyDrive/ESPERIMENTI/GRACE/NLS-KDD/1000/kmeans_attack.pkl\", \"rb\"))\n",
        "centroids_normal = kmeans_normal.cluster_centers_\n",
        "centroids_attack = kmeans_attack.cluster_centers_\n",
        "'''\n",
        "#load centroids\n",
        "'''\n",
        "centroids_normal = np.load('/content/drive/MyDrive/ESPERIMENTI/GRACE/NLS-KDD/1000/centroids_normal.npy')\n",
        "centroids_attack = np.load('/content/drive/MyDrive/ESPERIMENTI/GRACE/NLS-KDD/1000/centroids_attack.npy')\n",
        "'''\n",
        "\n",
        "#reshape inverso\n",
        "'''\n",
        "img = XTrain[0].reshape(12,12)\n",
        "plt.imshow(img)\n",
        "'''\n",
        "#Stampa centroidi\n",
        "'''\n",
        "img = centroids_normal[0].reshape(12,12)\n",
        "plt.imshow(img)\n",
        "'''"
      ],
      "execution_count": null,
      "outputs": []
    },
    {
      "cell_type": "code",
      "metadata": {
        "colab": {
          "base_uri": "https://localhost:8080/"
        },
        "id": "AcTE99HVkKQM",
        "outputId": "9d256e15-aeba-40ad-85c0-d0fda68319d6"
      },
      "source": [
        "print(centroids_normal.shape)\n",
        "print(centroids_attack.shape)\n",
        "\n",
        "#centroids_normal= np.array(centroids_normal)\n",
        "#centroids_attack= np.array(centroids_attack)\n",
        "\n",
        "centroids = np.concatenate((centroids_normal, centroids_attack), axis=0)\n",
        "centroidsY = np.concatenate((np.ones(1000), np.zeros(1000)), axis=0)\n",
        "\n",
        "print(centroids.shape)\n",
        "print(centroidsY.shape)"
      ],
      "execution_count": 7,
      "outputs": [
        {
          "output_type": "stream",
          "text": [
            "(1000, 144)\n",
            "(1000, 144)\n",
            "(2000, 144)\n",
            "(2000,)\n"
          ],
          "name": "stdout"
        }
      ]
    },
    {
      "cell_type": "code",
      "metadata": {
        "colab": {
          "base_uri": "https://localhost:8080/"
        },
        "id": "ZNOsbUEVkN4M",
        "outputId": "c93e7545-29a8-48cb-ffbe-1151eac52aa0"
      },
      "source": [
        "#RISULTATI kNN (senza PCA)\n",
        "from sklearn.neighbors import KNeighborsClassifier\n",
        "from sklearn.metrics import confusion_matrix\n",
        "\n",
        "start_time = time.time()  #time\n",
        "classifier = KNeighborsClassifier(n_neighbors=2)\n",
        "classifier.fit(centroids, centroidsY)\n",
        "print(\"%s seconds\" % (time.time() - start_time))  #time\n",
        "\n",
        "\n",
        "start_time = time.time()  #time\n",
        "y_pred = classifier.predict(XTest)\n",
        "print(\"%s seconds\" % (time.time() - start_time))  #time\n",
        "\n",
        "start_time = time.time()  #time\n",
        "\n",
        "con_mat = confusion_matrix(YTest, y_pred)\n",
        "\n",
        "N_CLASSES = 2\n",
        "tp = con_mat[0][0]  # attacks true\n",
        "fn = con_mat[0][1]  # attacs predict normal\n",
        "fp = con_mat[1][0]  # normal predict attacks\n",
        "tn = con_mat[1][1]  # normal as normal\n",
        "attacks = tp + fn\n",
        "normals = fp + tn\n",
        "OA = (tp + tn) / (attacks + normals)\n",
        "AA = ((tp / attacks) + (tn / normals)) / N_CLASSES\n",
        "P = tp / (tp + fp)\n",
        "R = tp / (tp + fn)\n",
        "F1 = 2 * ((P * R) / (P + R))\n",
        "FAR = fp / (fp + tn)\n",
        "TPR = tp / (tp + fn)\n",
        "r = (tp, fn, fp, tn, OA, AA, P, R, F1, FAR, TPR)\n",
        "\n",
        "print('RESULT')\n",
        "print(r)\n",
        "\n",
        "print(\"%s seconds\" % (time.time() - start_time))  #time"
      ],
      "execution_count": 8,
      "outputs": [
        {
          "output_type": "stream",
          "text": [
            "0.02631521224975586 seconds\n",
            "2.214939594268799 seconds\n",
            "RESULT\n",
            "(10572, 2261, 945, 8766, 0.8577892122072391, 0.8632506396601036, 0.9179473821307632, 0.823813605548196, 0.8683367556468172, 0.09731232622798888, 0.823813605548196)\n",
            "0.02439093589782715 seconds\n"
          ],
          "name": "stdout"
        }
      ]
    },
    {
      "cell_type": "markdown",
      "metadata": {
        "id": "aoDsZLbPQcYf"
      },
      "source": [
        "# UNSW-NB15"
      ]
    },
    {
      "cell_type": "code",
      "metadata": {
        "id": "BYAk5SSEQd2O",
        "colab": {
          "base_uri": "https://localhost:8080/"
        },
        "outputId": "5f06f93f-f19a-4f16-de14-628ed9fb7618"
      },
      "source": [
        "#import\n",
        "\n",
        "!pip install -U -q PyDrive\n",
        "import os\n",
        "from pydrive.auth import GoogleAuth\n",
        "from pydrive.drive import GoogleDrive\n",
        "from google.colab import auth\n",
        "from oauth2client.client import GoogleCredentials\n",
        "import numpy as np\n",
        "from keras.models import load_model\n",
        "\n",
        "import tensorflow as tf\n",
        "from tensorflow import keras\n",
        "\n",
        "# Display\n",
        "from IPython.display import Image\n",
        "import matplotlib.pyplot as plt\n",
        "import matplotlib.cm as cm\n",
        "\n",
        "from PIL import Image\n",
        "import pickle\n",
        "\n",
        "from keras.layers import Input\n",
        "from keras.layers import Conv2D, MaxPooling2D, AveragePooling2D, Conv1D\n",
        "from keras.models import Model\n",
        "\n",
        "from tensorflow.keras import backend as K\n",
        "#tf.compat.v1.disable_eager_execution()\n",
        "from keras.layers import Input\n",
        "from keras.layers import Conv2D, MaxPooling2D, AveragePooling2D, Conv1D\n",
        "from sklearn.metrics import confusion_matrix\n",
        "\n",
        "\n",
        "import re\n",
        "import numpy as np\n",
        "import pandas as pd\n",
        "#import seaborn as sns\n",
        "import matplotlib.image as mpimg\n",
        "import keras.backend as K\n",
        "\n",
        "from keras.preprocessing import image\n",
        "from keras.layers import Dense, Input, Layer, InputSpec, Conv2D, Flatten, Reshape, Conv2DTranspose\n",
        "from keras.models import Model\n",
        "\n",
        "from sklearn.cluster import KMeans\n",
        "from sklearn.metrics import silhouette_score, calinski_harabasz_score, normalized_mutual_info_score, adjusted_rand_score#, confusion_matrix\n",
        "from sklearn.utils.linear_assignment_ import linear_assignment\n",
        "\n",
        "import warnings\n",
        "warnings.filterwarnings(\"ignore\")\n",
        "\n",
        "np.random.seed(42)\n",
        "\n",
        "from keras import callbacks\n",
        "from sklearn.model_selection import train_test_split\n",
        "\n",
        "import time"
      ],
      "execution_count": null,
      "outputs": [
        {
          "output_type": "stream",
          "text": [
            "/usr/local/lib/python3.7/dist-packages/sklearn/utils/linear_assignment_.py:22: FutureWarning: The linear_assignment_ module is deprecated in 0.21 and will be removed from 0.23. Use scipy.optimize.linear_sum_assignment instead.\n",
            "  FutureWarning)\n"
          ],
          "name": "stderr"
        }
      ]
    },
    {
      "cell_type": "code",
      "metadata": {
        "id": "51qS3h2aQoBu"
      },
      "source": [
        "from google.colab import drive\n",
        "drive.mount('/content/drive')"
      ],
      "execution_count": null,
      "outputs": []
    },
    {
      "cell_type": "code",
      "metadata": {
        "colab": {
          "base_uri": "https://localhost:8080/"
        },
        "id": "BfUM6o6pQrsu",
        "outputId": "62548c9c-eba0-4f44-f4f3-2499a485c893"
      },
      "source": [
        "f_myfile = open('/content/drive/MyDrive/ESPERIMENTI/UNSW-NB15/gradcam/pickle/unico/XTrain_heatmap_15x15.pickle', 'rb')\n",
        "XTrain = pickle.load(f_myfile)\n",
        "f_myfile.close()\n",
        "\n",
        "f_myfile = open('/content/drive/MyDrive/ESPERIMENTI/UNSW-NB15/gradcam/pickle/unico/XTest_heatmap_15x15_1.pickle', 'rb')\n",
        "XTest1 = pickle.load(f_myfile)\n",
        "f_myfile.close()\n",
        "\n",
        "f_myfile = open('/content/drive/MyDrive/ESPERIMENTI/UNSW-NB15/gradcam/pickle/unico/XTest_heatmap_15x15_2.pickle', 'rb')\n",
        "XTest2 = pickle.load(f_myfile)\n",
        "f_myfile.close()\n",
        "\n",
        "f_myfile = open('/content/drive/MyDrive/ESPERIMENTI/UNSW-NB15/gradcam/pickle/unico/XTest_heatmap_15x15_3.pickle', 'rb')\n",
        "XTest3 = pickle.load(f_myfile)\n",
        "f_myfile.close()\n",
        "\n",
        "f_myfile = open('/content/drive/MyDrive/ESPERIMENTI/UNSW-NB15/gradcam/pickle/unico/XTest_heatmap_15x15_4.pickle', 'rb')\n",
        "XTest4 = pickle.load(f_myfile)\n",
        "f_myfile.close()\n",
        "\n",
        "f_myfile = open('/content/drive/MyDrive/ESPERIMENTI/UNSW-NB15/gradcam/pickle/unico/XTest_heatmap_15x15_5.pickle', 'rb')\n",
        "XTest5 = pickle.load(f_myfile)\n",
        "f_myfile.close()\n",
        "\n",
        "XTest = XTest1 + XTest2 + XTest3 + XTest4 + XTest5\n",
        "\n",
        "f_myfile = open('/content/drive/MyDrive/ESPERIMENTI/UNSW-NB15/MAGNETO/15x15/15x15/Ytrain.pickle', 'rb')\n",
        "YTrain = pickle.load(f_myfile)\n",
        "f_myfile.close()\n",
        "\n",
        "f_myfile = open('/content/drive/MyDrive/ESPERIMENTI/UNSW-NB15/MAGNETO/15x15/15x15/Ytest.pickle', 'rb')\n",
        "YTest = pickle.load(f_myfile)\n",
        "f_myfile.close()\n",
        "\n",
        "\n",
        "XTrain = np.array(XTrain)\n",
        "XTrain = np.uint8(255 * XTrain)\n",
        "XTrain = XTrain / 255\n",
        "\n",
        "XTest = np.array(XTest)\n",
        "XTest = np.uint8(255 * XTest)\n",
        "XTest = XTest / 255\n",
        "\n",
        "XTrain = XTrain.reshape(-1, (15*15))\n",
        "XTest = XTest.reshape(-1, (15*15))\n",
        "\n",
        "print(XTrain.shape)\n",
        "print(XTest.shape)"
      ],
      "execution_count": null,
      "outputs": [
        {
          "output_type": "stream",
          "text": [
            "(82332, 225)\n",
            "(175341, 225)\n"
          ],
          "name": "stdout"
        }
      ]
    },
    {
      "cell_type": "code",
      "metadata": {
        "colab": {
          "base_uri": "https://localhost:8080/"
        },
        "id": "47epuMqLQxFW",
        "outputId": "968a6d0d-05eb-44ef-d00d-71a8dbd2a856"
      },
      "source": [
        "XTrain_normal = XTrain[np.where(YTrain[:] == 1)]\n",
        "XTrain_attack = XTrain[np.where(YTrain[:] == 0)]\n",
        "\n",
        "print('Train')\n",
        "print('Train normal: ', XTrain_normal.shape)\n",
        "print('Train attack: ', XTrain_attack.shape)"
      ],
      "execution_count": null,
      "outputs": [
        {
          "output_type": "stream",
          "text": [
            "Train\n",
            "Train normal:  (37000, 225)\n",
            "Train attack:  (45332, 225)\n"
          ],
          "name": "stdout"
        }
      ]
    },
    {
      "cell_type": "code",
      "metadata": {
        "colab": {
          "base_uri": "https://localhost:8080/"
        },
        "id": "xEL_AL8IQ8F3",
        "outputId": "9c9b4d63-63a0-43a0-af89-8c0b5149ef62"
      },
      "source": [
        "#sklearn.cluster.KMeans\n",
        "\n",
        "from sklearn.cluster import KMeans\n",
        "import numpy as np\n",
        "import time\n",
        "\n",
        "start_time = time.time()  #time\n",
        "kmeans_normal = KMeans(n_clusters=500, random_state=0).fit(XTrain_normal)\n",
        "centroids_normal = kmeans_normal.cluster_centers_\n",
        "print(\"%s seconds\" % (time.time() - start_time))  #time\n",
        "\n",
        "start_time = time.time()  #time\n",
        "kmeans_attack = KMeans(n_clusters=500, random_state=0).fit(XTrain_attack)\n",
        "centroids_attack = kmeans_attack.cluster_centers_\n",
        "print(\"%s seconds\" % (time.time() - start_time))  #time"
      ],
      "execution_count": null,
      "outputs": [
        {
          "output_type": "stream",
          "text": [
            "159.21177339553833 seconds\n",
            "187.47879576683044 seconds\n"
          ],
          "name": "stdout"
        }
      ]
    },
    {
      "cell_type": "code",
      "metadata": {
        "id": "3FmoXQMdx9Wn"
      },
      "source": [
        "#save\n",
        "pickle.dump(kmeans_normal, open(\"/content/drive/MyDrive/ESPERIMENTI/GRACE/UNSW-NB15/500/kmeans_normal.pkl\", \"wb\"))\n",
        "pickle.dump(kmeans_attack, open(\"/content/drive/MyDrive/ESPERIMENTI/GRACE/UNSW-NB15/500/kmeans_attack.pkl\", \"wb\"))\n",
        "np.save('/content/drive/MyDrive/ESPERIMENTI/GRACE/UNSW-NB15/500/centroids_normal.npy', centroids_normal)\n",
        "np.save('/content/drive/MyDrive/ESPERIMENTI/GRACE/UNSW-NB15/500/centroids_attack.npy', centroids_attack) "
      ],
      "execution_count": null,
      "outputs": []
    },
    {
      "cell_type": "code",
      "metadata": {
        "colab": {
          "base_uri": "https://localhost:8080/"
        },
        "id": "TmNRCd2pQ_y-",
        "outputId": "a762b68d-cb1d-4cfe-f380-735231e1cae3"
      },
      "source": [
        "print(centroids_normal.shape)\n",
        "print(centroids_attack.shape)\n",
        "\n",
        "#centroids_normal= np.array(centroids_normal)\n",
        "#centroids_attack= np.array(centroids_attack)\n",
        "\n",
        "centroids = np.concatenate((centroids_normal, centroids_attack), axis=0)\n",
        "centroidsY = np.concatenate((np.ones(500), np.zeros(500)), axis=0)\n",
        "\n",
        "print(centroids.shape)\n",
        "print(centroidsY.shape)"
      ],
      "execution_count": null,
      "outputs": [
        {
          "output_type": "stream",
          "text": [
            "(500, 225)\n",
            "(500, 225)\n",
            "(1000, 225)\n",
            "(1000,)\n"
          ],
          "name": "stdout"
        }
      ]
    },
    {
      "cell_type": "code",
      "metadata": {
        "colab": {
          "base_uri": "https://localhost:8080/"
        },
        "id": "4iUlS04ARCUG",
        "outputId": "115199d6-2516-488f-9244-1fa0349c04a2"
      },
      "source": [
        "#RISULTATI kNN (senza PCA)\n",
        "from sklearn.neighbors import KNeighborsClassifier\n",
        "from sklearn.metrics import confusion_matrix\n",
        "\n",
        "start_time = time.time()  #time\n",
        "classifier = KNeighborsClassifier(n_neighbors=2)\n",
        "classifier.fit(centroids, centroidsY)\n",
        "print(\"%s seconds\" % (time.time() - start_time))  #time\n",
        "\n",
        "start_time = time.time()  #time\n",
        "y_pred = classifier.predict(XTest)\n",
        "print(\"%s seconds\" % (time.time() - start_time))  #time\n",
        "\n",
        "start_time = time.time()  #time\n",
        "\n",
        "con_mat = confusion_matrix(YTest, y_pred)\n",
        "\n",
        "N_CLASSES = 2\n",
        "tp = con_mat[0][0]  # attacks true\n",
        "fn = con_mat[0][1]  # attacs predict normal\n",
        "fp = con_mat[1][0]  # normal predict attacks\n",
        "tn = con_mat[1][1]  # normal as normal\n",
        "attacks = tp + fn\n",
        "normals = fp + tn\n",
        "OA = (tp + tn) / (attacks + normals)\n",
        "AA = ((tp / attacks) + (tn / normals)) / N_CLASSES\n",
        "P = tp / (tp + fp)\n",
        "R = tp / (tp + fn)\n",
        "F1 = 2 * ((P * R) / (P + R))\n",
        "FAR = fp / (fp + tn)\n",
        "TPR = tp / (tp + fn)\n",
        "r = (tp, fn, fp, tn, OA, AA, P, R, F1, FAR, TPR)\n",
        "\n",
        "print('RESULT')\n",
        "print(r)\n",
        "\n",
        "print(\"%s seconds\" % (time.time() - start_time))  #time"
      ],
      "execution_count": null,
      "outputs": [
        {
          "output_type": "stream",
          "text": [
            "0.01836705207824707 seconds\n",
            "24.90867257118225 seconds\n",
            "RESULT\n",
            "(116939, 2402, 9968, 46032, 0.9294517540107562, 0.900936400734031, 0.921454293301394, 0.9798728014680621, 0.9497660894707775, 0.178, 0.9798728014680621)\n",
            "0.14067625999450684 seconds\n"
          ],
          "name": "stdout"
        }
      ]
    },
    {
      "cell_type": "markdown",
      "metadata": {
        "id": "C7-ADS-Di2hM"
      },
      "source": [
        "# KDDCUP99"
      ]
    },
    {
      "cell_type": "code",
      "metadata": {
        "colab": {
          "base_uri": "https://localhost:8080/"
        },
        "id": "Tp84if0Ii37D",
        "outputId": "f7190fb9-d59d-4ecf-f9aa-4566912fee10"
      },
      "source": [
        "#import\n",
        "\n",
        "!pip install -U -q PyDrive\n",
        "import os\n",
        "from pydrive.auth import GoogleAuth\n",
        "from pydrive.drive import GoogleDrive\n",
        "from google.colab import auth\n",
        "from oauth2client.client import GoogleCredentials\n",
        "import numpy as np\n",
        "from keras.models import load_model\n",
        "\n",
        "import tensorflow as tf\n",
        "from tensorflow import keras\n",
        "\n",
        "# Display\n",
        "from IPython.display import Image\n",
        "import matplotlib.pyplot as plt\n",
        "import matplotlib.cm as cm\n",
        "\n",
        "from PIL import Image\n",
        "import pickle\n",
        "\n",
        "from keras.layers import Input\n",
        "from keras.layers import Conv2D, MaxPooling2D, AveragePooling2D, Conv1D\n",
        "from keras.models import Model\n",
        "\n",
        "from tensorflow.keras import backend as K\n",
        "#tf.compat.v1.disable_eager_execution()\n",
        "from keras.layers import Input\n",
        "from keras.layers import Conv2D, MaxPooling2D, AveragePooling2D, Conv1D\n",
        "from sklearn.metrics import confusion_matrix\n",
        "\n",
        "\n",
        "import re\n",
        "import numpy as np\n",
        "import pandas as pd\n",
        "#import seaborn as sns\n",
        "import matplotlib.image as mpimg\n",
        "import keras.backend as K\n",
        "\n",
        "from keras.preprocessing import image\n",
        "from keras.layers import Dense, Input, Layer, InputSpec, Conv2D, Flatten, Reshape, Conv2DTranspose\n",
        "from keras.models import Model\n",
        "\n",
        "from sklearn.cluster import KMeans\n",
        "from sklearn.metrics import silhouette_score, calinski_harabasz_score, normalized_mutual_info_score, adjusted_rand_score#, confusion_matrix\n",
        "from sklearn.utils.linear_assignment_ import linear_assignment\n",
        "\n",
        "import warnings\n",
        "warnings.filterwarnings(\"ignore\")\n",
        "\n",
        "np.random.seed(42)\n",
        "\n",
        "from keras import callbacks\n",
        "from sklearn.model_selection import train_test_split\n",
        "\n",
        "import time"
      ],
      "execution_count": null,
      "outputs": [
        {
          "output_type": "stream",
          "text": [
            "/usr/local/lib/python3.7/dist-packages/sklearn/utils/linear_assignment_.py:22: FutureWarning: The linear_assignment_ module is deprecated in 0.21 and will be removed from 0.23. Use scipy.optimize.linear_sum_assignment instead.\n",
            "  FutureWarning)\n"
          ],
          "name": "stderr"
        }
      ]
    },
    {
      "cell_type": "code",
      "metadata": {
        "colab": {
          "base_uri": "https://localhost:8080/"
        },
        "id": "abEAxoK3i6bT",
        "outputId": "37808a3b-5184-4f78-868b-51208732bb05"
      },
      "source": [
        "from google.colab import drive\n",
        "drive.mount('/content/drive')"
      ],
      "execution_count": null,
      "outputs": [
        {
          "output_type": "stream",
          "text": [
            "Mounted at /content/drive\n"
          ],
          "name": "stdout"
        }
      ]
    },
    {
      "cell_type": "code",
      "metadata": {
        "colab": {
          "base_uri": "https://localhost:8080/"
        },
        "id": "7mYKn0Jvkp0T",
        "outputId": "ad6244aa-37e8-4b83-95a8-74bf07cdb566"
      },
      "source": [
        "#HEATMAP\n",
        "\n",
        "from __future__ import print_function\n",
        "import time\n",
        "import numpy as np\n",
        "import pandas as pd\n",
        "#from sklearn.datasets import fetch_mldata\n",
        "from sklearn.decomposition import PCA\n",
        "from sklearn.manifold import TSNE\n",
        "%matplotlib inline\n",
        "import matplotlib.pyplot as plt\n",
        "from mpl_toolkits.mplot3d import Axes3D\n",
        "import seaborn as sns\n",
        "import pickle\n",
        "import matplotlib.pyplot as plt\n",
        "import time\n",
        "\n",
        "#heatmap-XTrain(11)\n",
        "\n",
        "f_myfile = open('/content/drive/MyDrive/ESPERIMENTI/KDDCUP99/gradcam/pickle/validation/XTrain_heatmap_13x13_1.pickle', 'rb')\n",
        "XTrain1 = pickle.load(f_myfile)\n",
        "f_myfile.close()\n",
        "\n",
        "f_myfile = open('/content/drive/MyDrive/ESPERIMENTI/KDDCUP99/gradcam/pickle/validation/XTrain_heatmap_13x13_2.pickle', 'rb')\n",
        "XTrain2 = pickle.load(f_myfile)\n",
        "f_myfile.close()\n",
        "\n",
        "f_myfile = open('/content/drive/MyDrive/ESPERIMENTI/KDDCUP99/gradcam/pickle/validation/XTrain_heatmap_13x13_3.pickle', 'rb')\n",
        "XTrain3 = pickle.load(f_myfile)\n",
        "f_myfile.close()\n",
        "\n",
        "f_myfile = open('/content/drive/MyDrive/ESPERIMENTI/KDDCUP99/gradcam/pickle/validation/XTrain_heatmap_13x13_4.pickle', 'rb')\n",
        "XTrain4 = pickle.load(f_myfile)\n",
        "f_myfile.close()\n",
        "\n",
        "f_myfile = open('/content/drive/MyDrive/ESPERIMENTI/KDDCUP99/gradcam/pickle/validation/XTrain_heatmap_13x13_5.pickle', 'rb')\n",
        "XTrain5 = pickle.load(f_myfile)\n",
        "f_myfile.close()\n",
        "\n",
        "f_myfile = open('/content/drive/MyDrive/ESPERIMENTI/KDDCUP99/gradcam/pickle/validation/XTrain_heatmap_13x13_6.pickle', 'rb')\n",
        "XTrain6 = pickle.load(f_myfile)\n",
        "f_myfile.close()\n",
        "\n",
        "f_myfile = open('/content/drive/MyDrive/ESPERIMENTI/KDDCUP99/gradcam/pickle/validation/XTrain_heatmap_13x13_7.pickle', 'rb')\n",
        "XTrain7 = pickle.load(f_myfile)\n",
        "f_myfile.close()\n",
        "\n",
        "f_myfile = open('/content/drive/MyDrive/ESPERIMENTI/KDDCUP99/gradcam/pickle/validation/XTrain_heatmap_13x13_8.pickle', 'rb')\n",
        "XTrain8 = pickle.load(f_myfile)\n",
        "f_myfile.close()\n",
        "\n",
        "f_myfile = open('/content/drive/MyDrive/ESPERIMENTI/KDDCUP99/gradcam/pickle/validation/XTrain_heatmap_13x13_9.pickle', 'rb')\n",
        "XTrain9 = pickle.load(f_myfile)\n",
        "f_myfile.close()\n",
        "\n",
        "f_myfile = open('/content/drive/MyDrive/ESPERIMENTI/KDDCUP99/gradcam/pickle/validation/XTrain_heatmap_13x13_10.pickle', 'rb')\n",
        "XTrain10 = pickle.load(f_myfile)\n",
        "f_myfile.close()\n",
        "\n",
        "f_myfile = open('/content/drive/MyDrive/ESPERIMENTI/KDDCUP99/gradcam/pickle/validation/XTrain_heatmap_13x13_11.pickle', 'rb')\n",
        "XTrain11 = pickle.load(f_myfile)\n",
        "f_myfile.close()\n",
        "\n",
        "#heatmap-XTest(8)\n",
        "\n",
        "f_myfile = open('/content/drive/MyDrive/ESPERIMENTI/KDDCUP99/gradcam/pickle/validation/XTest_heatmap_13x13_1.pickle', 'rb')\n",
        "XTest1 = pickle.load(f_myfile)\n",
        "f_myfile.close()\n",
        "\n",
        "f_myfile = open('/content/drive/MyDrive/ESPERIMENTI/KDDCUP99/gradcam/pickle/validation/XTest_heatmap_13x13_2.pickle', 'rb')\n",
        "XTest2 = pickle.load(f_myfile)\n",
        "f_myfile.close()\n",
        "\n",
        "f_myfile = open('/content/drive/MyDrive/ESPERIMENTI/KDDCUP99/gradcam/pickle/validation/XTest_heatmap_13x13_3.pickle', 'rb')\n",
        "XTest3 = pickle.load(f_myfile)\n",
        "f_myfile.close()\n",
        "\n",
        "f_myfile = open('/content/drive/MyDrive/ESPERIMENTI/KDDCUP99/gradcam/pickle/validation/XTest_heatmap_13x13_4.pickle', 'rb')\n",
        "XTest4 = pickle.load(f_myfile)\n",
        "f_myfile.close()\n",
        "\n",
        "f_myfile = open('/content/drive/MyDrive/ESPERIMENTI/KDDCUP99/gradcam/pickle/validation/XTest_heatmap_13x13_5.pickle', 'rb')\n",
        "XTest5 = pickle.load(f_myfile)\n",
        "f_myfile.close()\n",
        "\n",
        "f_myfile = open('/content/drive/MyDrive/ESPERIMENTI/KDDCUP99/gradcam/pickle/validation/XTest_heatmap_13x13_6.pickle', 'rb')\n",
        "XTest6 = pickle.load(f_myfile)\n",
        "f_myfile.close()\n",
        "\n",
        "f_myfile = open('/content/drive/MyDrive/ESPERIMENTI/KDDCUP99/gradcam/pickle/validation/XTest_heatmap_13x13_7.pickle', 'rb')\n",
        "XTest7 = pickle.load(f_myfile)\n",
        "f_myfile.close()\n",
        "\n",
        "f_myfile = open('/content/drive/MyDrive/ESPERIMENTI/KDDCUP99/gradcam/pickle/validation/XTest_heatmap_13x13_8.pickle', 'rb')\n",
        "XTest8 = pickle.load(f_myfile)\n",
        "f_myfile.close()\n",
        "\n",
        "\n",
        "XTrain = np.concatenate((XTrain1, XTrain2, XTrain3, XTrain4, XTrain5, XTrain6, XTrain7, XTrain8, XTrain9, XTrain10), axis=0)\n",
        "XTest = np.concatenate((XTest1, XTest2, XTest3, XTest4, XTest5, XTest6, XTest7), axis=0)\n",
        "\n",
        "f_myfile = open('/content/drive/MyDrive/ESPERIMENTI/KDDCUP99/MAGNETO/13x13/Ytrain.pickle', 'rb')\n",
        "YTrain = pickle.load(f_myfile)\n",
        "f_myfile.close()\n",
        "\n",
        "f_myfile = open('/content/drive/MyDrive/ESPERIMENTI/KDDCUP99/MAGNETO/13x13/Ytest.pickle', 'rb')\n",
        "YTest = pickle.load(f_myfile)\n",
        "f_myfile.close()\n",
        "\n",
        "XTrain = np.array(XTrain)\n",
        "XTest = np.array(XTest)\n",
        "\n",
        "XTrain = np.uint8(255 * XTrain)\n",
        "XTrain = XTrain / 255\n",
        "XTest = np.uint8(255 * XTest)\n",
        "XTest = XTest / 255\n",
        "\n",
        "XTrain = XTrain.reshape(-1, (13*13))\n",
        "XTest = XTest.reshape(-1, (13*13))\n",
        "\n",
        "print(XTrain.shape) \n",
        "print(YTrain.shape)\n",
        "print(XTest.shape) \n",
        "print(YTest.shape)"
      ],
      "execution_count": null,
      "outputs": [
        {
          "output_type": "stream",
          "text": [
            "(494021, 169)\n",
            "(494021,)\n",
            "(311029, 169)\n",
            "(311029,)\n"
          ],
          "name": "stdout"
        }
      ]
    },
    {
      "cell_type": "code",
      "metadata": {
        "colab": {
          "base_uri": "https://localhost:8080/"
        },
        "id": "ElL605ExlHIb",
        "outputId": "10a9a78a-2ddc-4561-8602-0ae2e67b49ae"
      },
      "source": [
        "XTrain_normal = XTrain[np.where(YTrain[:] == 1)]\n",
        "XTrain_attack = XTrain[np.where(YTrain[:] == 0)]\n",
        "\n",
        "print('Train')\n",
        "print('Train normal: ', XTrain_normal.shape)\n",
        "print('Train attack: ', XTrain_attack.shape)"
      ],
      "execution_count": null,
      "outputs": [
        {
          "output_type": "stream",
          "text": [
            "Train\n",
            "Train normal:  (97278, 169)\n",
            "Train attack:  (396743, 169)\n"
          ],
          "name": "stdout"
        }
      ]
    },
    {
      "cell_type": "code",
      "metadata": {
        "id": "EaUjBmbglJQb"
      },
      "source": [
        "#sklearn.cluster.KMeans\n",
        "\n",
        "from sklearn.cluster import KMeans\n",
        "import numpy as np\n",
        "import time\n",
        "\n",
        "start_time = time.time()  #time\n",
        "kmeans_normal = KMeans(n_clusters=500, random_state=0).fit(XTrain_normal)\n",
        "centroids_normal = kmeans_normal.cluster_centers_\n",
        "print(\"%s seconds\" % (time.time() - start_time))  #time\n",
        "\n",
        "start_time = time.time()  #time\n",
        "kmeans_attack = KMeans(n_clusters=500, random_state=0).fit(XTrain_attack)\n",
        "centroids_attack = kmeans_attack.cluster_centers_\n",
        "print(\"%s seconds\" % (time.time() - start_time))  #time"
      ],
      "execution_count": null,
      "outputs": []
    },
    {
      "cell_type": "code",
      "metadata": {
        "id": "jH1V3adiyOU2"
      },
      "source": [
        "#save\n",
        "pickle.dump(kmeans_normal, open(\"/content/drive/MyDrive/ESPERIMENTI/GRACE/KDD-CUP99/10000_mb/kmeans_normal.pkl\", \"wb\"))\n",
        "pickle.dump(kmeans_attack, open(\"/content/drive/MyDrive/ESPERIMENTI/GRACE/KDD-CUP99/10000_mb/kmeans_attack.pkl\", \"wb\"))\n",
        "np.save('/content/drive/MyDrive/ESPERIMENTI/GRACE/KDD-CUP99/10000_mb/centroids_normal.npy', centroids_normal)\n",
        "np.save('/content/drive/MyDrive/ESPERIMENTI/GRACE/KDD-CUP99/10000_mb/centroids_attack.npy', centroids_attack) "
      ],
      "execution_count": null,
      "outputs": []
    },
    {
      "cell_type": "code",
      "metadata": {
        "colab": {
          "base_uri": "https://localhost:8080/"
        },
        "id": "4yNbDEgcpcq7",
        "outputId": "6012ea4e-5fcd-439a-fe1f-2c4187459d15"
      },
      "source": [
        "#****MiniBatchKMeans*******\n",
        "\n",
        "from sklearn.cluster import MiniBatchKMeans\n",
        "import numpy as np\n",
        "import time\n",
        "\n",
        "start_time = time.time()  #time\n",
        "\n",
        "kmeans_normal = MiniBatchKMeans(n_clusters=10000, random_state=0).fit(XTrain_normal)\n",
        "centroids_normal = kmeans_normal.cluster_centers_\n",
        "\n",
        "print(\"%s seconds\" % (time.time() - start_time))  #time\n",
        "\n",
        "start_time = time.time()  #time\n",
        "\n",
        "kmeans_attack = MiniBatchKMeans(n_clusters=10000, random_state=0).fit(XTrain_attack)\n",
        "centroids_attack = kmeans_attack.cluster_centers_\n",
        "print(\"%s seconds\" % (time.time() - start_time))  #time"
      ],
      "execution_count": null,
      "outputs": [
        {
          "output_type": "stream",
          "text": [
            "357.37306904792786 seconds\n",
            "399.6844871044159 seconds\n"
          ],
          "name": "stdout"
        }
      ]
    },
    {
      "cell_type": "code",
      "metadata": {
        "colab": {
          "base_uri": "https://localhost:8080/"
        },
        "id": "w0reogs2lLhD",
        "outputId": "b9cce61a-044d-4ff7-e43c-19e14ce5fa44"
      },
      "source": [
        "print(centroids_normal.shape)\n",
        "print(centroids_attack.shape)\n",
        "\n",
        "#centroids_normal= np.array(centroids_normal)\n",
        "#centroids_attack= np.array(centroids_attack)\n",
        "\n",
        "centroids = np.concatenate((centroids_normal, centroids_attack), axis=0)\n",
        "centroidsY = np.concatenate((np.ones(10000), np.zeros(10000)), axis=0)\n",
        "\n",
        "print(centroids.shape)\n",
        "print(centroidsY.shape)"
      ],
      "execution_count": null,
      "outputs": [
        {
          "output_type": "stream",
          "text": [
            "(10000, 169)\n",
            "(10000, 169)\n",
            "(20000, 169)\n",
            "(20000,)\n"
          ],
          "name": "stdout"
        }
      ]
    },
    {
      "cell_type": "code",
      "metadata": {
        "colab": {
          "base_uri": "https://localhost:8080/"
        },
        "id": "NzodmP9LlOT6",
        "outputId": "1752825d-477a-4cb7-a37b-5bd6b5e9d0d3"
      },
      "source": [
        "#RISULTATI kNN (senza PCA)\n",
        "from sklearn.neighbors import KNeighborsClassifier\n",
        "from sklearn.metrics import confusion_matrix\n",
        "\n",
        "start_time = time.time()  #time\n",
        "classifier = KNeighborsClassifier(n_neighbors=5)\n",
        "classifier.fit(centroids, centroidsY)\n",
        "print(\"%s seconds\" % (time.time() - start_time))  #time\n",
        "\n",
        "start_time = time.time()  #time\n",
        "y_pred = classifier.predict(XTest)\n",
        "print(\"%s seconds\" % (time.time() - start_time))  #time\n",
        "\n",
        "start_time = time.time()  #time\n",
        "\n",
        "con_mat = confusion_matrix(YTest, y_pred)\n",
        "\n",
        "N_CLASSES = 2\n",
        "tp = con_mat[0][0]  # attacks true\n",
        "fn = con_mat[0][1]  # attacs predict normal\n",
        "fp = con_mat[1][0]  # normal predict attacks\n",
        "tn = con_mat[1][1]  # normal as normal\n",
        "attacks = tp + fn\n",
        "normals = fp + tn\n",
        "OA = (tp + tn) / (attacks + normals)\n",
        "AA = ((tp / attacks) + (tn / normals)) / N_CLASSES\n",
        "P = tp / (tp + fp)\n",
        "R = tp / (tp + fn)\n",
        "F1 = 2 * ((P * R) / (P + R))\n",
        "FAR = fp / (fp + tn)\n",
        "TPR = tp / (tp + fn)\n",
        "r = (tp, fn, fp, tn, OA, AA, P, R, F1, FAR, TPR)\n",
        "\n",
        "print('RESULT')\n",
        "print(r)\n",
        "\n",
        "print(\"%s seconds\" % (time.time() - start_time))  #time"
      ],
      "execution_count": null,
      "outputs": [
        {
          "output_type": "stream",
          "text": [
            "0.43520426750183105 seconds\n",
            "44.27198839187622 seconds\n",
            "RESULT\n",
            "(227115, 23321, 337, 60256, 0.9239363532017915, 0.9506583527586384, 0.9985183687107609, 0.9068784040633135, 0.9504946765769384, 0.005561698546036671, 0.9068784040633135)\n",
            "0.24316954612731934 seconds\n"
          ],
          "name": "stdout"
        }
      ]
    },
    {
      "cell_type": "code",
      "metadata": {
        "colab": {
          "base_uri": "https://localhost:8080/"
        },
        "id": "MKQFqmuBRJY5",
        "outputId": "85dbf97d-49bc-474f-84ac-f40c0729f77c"
      },
      "source": [
        "print(\n",
        "904.2282316684723 +\n",
        "15743.142695727400000 +\n",
        "25906.5752635002136 +\n",
        "709.9252226352692 +\n",
        "2145.7426924705505 +\n",
        "0.024927616119384766 \n",
        ")\n",
        "\n",
        "print(\n",
        "194.16853904724121 +\n",
        "1214.857304272620000 +\n",
        "16310.2735204696655 +\n",
        "25.797962427139282\n",
        ")"
      ],
      "execution_count": null,
      "outputs": [
        {
          "output_type": "stream",
          "text": [
            "45409.63903361803\n",
            "17745.097326216666\n"
          ],
          "name": "stdout"
        }
      ]
    }
  ]
}