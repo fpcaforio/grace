{
  "nbformat": 4,
  "nbformat_minor": 0,
  "metadata": {
    "colab": {
      "name": "CNN+Grad-CAM+NN.ipynb",
      "provenance": [],
      "authorship_tag": "ABX9TyNye4i6FmZOAFY5DVwt2BeT",
      "include_colab_link": true
    },
    "kernelspec": {
      "name": "python3",
      "display_name": "Python 3"
    },
    "language_info": {
      "name": "python"
    }
  },
  "cells": [
    {
      "cell_type": "markdown",
      "metadata": {
        "id": "view-in-github",
        "colab_type": "text"
      },
      "source": [
        "<a href=\"https://colab.research.google.com/github/fpcaforio/grace/blob/master/CNN%2BGrad_CAM%2BNN.ipynb\" target=\"_parent\"><img src=\"https://colab.research.google.com/assets/colab-badge.svg\" alt=\"Open In Colab\"/></a>"
      ]
    },
    {
      "cell_type": "code",
      "metadata": {
        "id": "SOwcuFjW_dV3",
        "colab": {
          "base_uri": "https://localhost:8080/"
        },
        "outputId": "a3584394-1c0e-49cd-aafe-12a1fe283d3d"
      },
      "source": [
        "!pip install -U -q PyDrive\n",
        "import os\n",
        "from pydrive.auth import GoogleAuth\n",
        "from pydrive.drive import GoogleDrive\n",
        "from google.colab import auth\n",
        "from oauth2client.client import GoogleCredentials\n",
        "import numpy as np\n",
        "import pickle\n",
        "from sklearn.cluster import KMeans\n",
        "import numpy as np\n",
        "from sklearn.neighbors import KNeighborsClassifier\n",
        "from sklearn.metrics import confusion_matrix\n",
        "import time\n",
        "\n",
        "from google.colab import drive\n",
        "drive.mount('/content/drive')"
      ],
      "execution_count": 3,
      "outputs": [
        {
          "output_type": "stream",
          "text": [
            "Mounted at /content/drive\n"
          ],
          "name": "stdout"
        }
      ]
    },
    {
      "cell_type": "code",
      "metadata": {
        "colab": {
          "base_uri": "https://localhost:8080/"
        },
        "id": "X3AK-vhYKfxf",
        "outputId": "3e27d82e-c935-4e83-bfa9-59de47f85395"
      },
      "source": [
        "#CONFIG\n",
        "\n",
        "dataset = 'KDD-CUP99'\n",
        "N_CLASSES = 2\n",
        "n_clusters = 1000\n",
        "n_neighbors = 2\n",
        "\n",
        "if dataset == 'NLS-KDD':\n",
        "  print('Dataset: NLS-KDD')\n",
        "  pathHeatmap = '/content/drive/MyDrive/Grace/NLS-KDD/heatmap/'\n",
        "  pathMagneto = '/content/drive/MyDrive/Grace/NLS-KDD/magneto/'\n",
        "  size = 12\n",
        "elif dataset == 'UNSW-NB15':\n",
        "  print('Dataset: UNSW-NB15')\n",
        "  pathHeatmap = '/content/drive/MyDrive/Grace/UNSW-NB15/heatmap/'\n",
        "  pathMagneto = '/content/drive/MyDrive/Grace/UNSW-NB15/magneto/'\n",
        "  size = 15\n",
        "elif dataset == 'KDD-CUP99':  \n",
        "  print('KDD-CUP99')\n",
        "  pathHeatmap = '/content/drive/MyDrive/Grace/KDD-CUP99/heatmap/'\n",
        "  pathMagneto = '/content/drive/MyDrive/Grace/KDD-CUP99/magneto/'\n",
        "  size = 13"
      ],
      "execution_count": 4,
      "outputs": [
        {
          "output_type": "stream",
          "text": [
            "KDD-CUP99\n"
          ],
          "name": "stdout"
        }
      ]
    },
    {
      "cell_type": "code",
      "metadata": {
        "colab": {
          "base_uri": "https://localhost:8080/"
        },
        "id": "PmB2jx00KhMl",
        "outputId": "681d6719-9d57-47f8-e916-6d7b6d503f31"
      },
      "source": [
        "f_myfile = open(pathHeatmap + 'XTrain_heatmap.pickle', 'rb')\n",
        "XTrain = pickle.load(f_myfile)\n",
        "f_myfile.close()\n",
        "\n",
        "f_myfile = open(pathMagneto + 'Ytrain.pickle', 'rb')\n",
        "YTrain = pickle.load(f_myfile)\n",
        "f_myfile.close()\n",
        "\n",
        "f_myfile = open(pathHeatmap + 'XTest_heatmap.pickle', 'rb')\n",
        "XTest = pickle.load(f_myfile)\n",
        "f_myfile.close()\n",
        "\n",
        "f_myfile = open(pathMagneto + 'Ytest.pickle', 'rb')\n",
        "YTest = pickle.load(f_myfile)\n",
        "f_myfile.close()\n",
        "\n",
        "XTrain = np.array(XTrain)\n",
        "XTrain = np.uint8(255 * XTrain)\n",
        "XTrain = XTrain / 255\n",
        "XTrain = XTrain.reshape(-1, (size*size))\n",
        "\n",
        "XTest = np.array(XTest)\n",
        "XTest = np.uint8(255 * XTest)\n",
        "XTest = XTest / 255\n",
        "XTest = XTest.reshape(-1, (size*size))\n",
        "\n",
        "print('Training Set: ', XTrain.shape)\n",
        "print('Training Set: ', XTest.shape)"
      ],
      "execution_count": 5,
      "outputs": [
        {
          "output_type": "stream",
          "text": [
            "Training Set:  (494021, 169)\n",
            "Training Set:  (311029, 169)\n"
          ],
          "name": "stdout"
        }
      ]
    },
    {
      "cell_type": "code",
      "metadata": {
        "colab": {
          "base_uri": "https://localhost:8080/"
        },
        "id": "IHHYO7n3KlIV",
        "outputId": "312e1bbf-620b-4924-8cab-38eb2f5b1483"
      },
      "source": [
        "#KNeighborsClassifier\n",
        "\n",
        "classifier = KNeighborsClassifier(n_neighbors=n_neighbors)\n",
        "classifier.fit(XTrain, YTrain)\n",
        "y_pred = classifier.predict(XTest)\n",
        "con_mat = confusion_matrix(YTest, y_pred)\n",
        "\n",
        "tp = con_mat[0][0]  # attacks true\n",
        "fn = con_mat[0][1]  # attacs predict normal\n",
        "fp = con_mat[1][0]  # normal predict attacks\n",
        "tn = con_mat[1][1]  # normal as normal\n",
        "attacks = tp + fn\n",
        "normals = fp + tn\n",
        "OA = (tp + tn) / (attacks + normals)\n",
        "AA = ((tp / attacks) + (tn / normals)) / N_CLASSES\n",
        "P = tp / (tp + fp)\n",
        "R = tp / (tp + fn)\n",
        "F1 = 2 * ((P * R) / (P + R))\n",
        "FAR = fp / (fp + tn)\n",
        "TPR = tp / (tp + fn)\n",
        "r = (tp, fn, fp, tn, OA, AA, P, R, F1, FAR, TPR)\n",
        "\n",
        "print('tp, fn, fp, tn, OA, AA, P, R, F1, FAR, TPR')\n",
        "print(r)"
      ],
      "execution_count": 6,
      "outputs": [
        {
          "output_type": "stream",
          "text": [
            "tp, fn, fp, tn, OA, AA, P, R, F1, FAR, TPR\n",
            "(231486, 18950, 446, 60147, 0.9376392555035061, 0.95848568942331, 0.9980770225755825, 0.9243319650529477, 0.9597900358232718, 0.0073605862063274635, 0.9243319650529477)\n"
          ],
          "name": "stdout"
        }
      ]
    }
  ]
}